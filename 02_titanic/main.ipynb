{
  "nbformat": 4,
  "nbformat_minor": 0,
  "metadata": {
    "colab": {
      "name": "titanic.ipynb",
      "provenance": [],
      "collapsed_sections": [],
      "mount_file_id": "1l8fLsZVbWO_rXj-6R933_VT7WBeja-n4",
      "authorship_tag": "ABX9TyNrXd1jgkjbIiWcKU6axjxe",
      "include_colab_link": true
    },
    "kernelspec": {
      "name": "python3",
      "display_name": "Python 3"
    }
  },
  "cells": [
    {
      "cell_type": "markdown",
      "metadata": {
        "id": "view-in-github",
        "colab_type": "text"
      },
      "source": [
        "<a href=\"https://colab.research.google.com/github/chjinny/DLNY/blob/main/02_titanic/main.ipynb\" target=\"_parent\"><img src=\"https://colab.research.google.com/assets/colab-badge.svg\" alt=\"Open In Colab\"/></a>"
      ]
    },
    {
      "cell_type": "markdown",
      "metadata": {
        "id": "rnYkEWmr5Hpb"
      },
      "source": [
        "# Titanic\r\n"
      ]
    },
    {
      "cell_type": "markdown",
      "metadata": {
        "id": "ktye_avb5Kmx"
      },
      "source": [
        "## Google Drive 연결\r\n"
      ]
    },
    {
      "cell_type": "code",
      "metadata": {
        "colab": {
          "base_uri": "https://localhost:8080/"
        },
        "id": "bb6jK62zytdR",
        "outputId": "0a4e877f-7c6c-4aa4-b811-1c08811bea3b"
      },
      "source": [
        "from google.colab import drive \r\n",
        "drive.mount('/content/gdrive/')"
      ],
      "execution_count": 5,
      "outputs": [
        {
          "output_type": "stream",
          "text": [
            "Mounted at /content/gdrive/\n"
          ],
          "name": "stdout"
        }
      ]
    },
    {
      "cell_type": "markdown",
      "metadata": {
        "id": "A5xLjijL5OLs"
      },
      "source": [
        "## Pandas로 데이터 살펴보기"
      ]
    },
    {
      "cell_type": "markdown",
      "metadata": {
        "id": "Y-VxeNJF5ShA"
      },
      "source": [
        "### 데이터 불러오기"
      ]
    },
    {
      "cell_type": "code",
      "metadata": {
        "id": "K22ZmmFZzKly"
      },
      "source": [
        "import pandas as pd\r\n",
        "\r\n",
        "train = pd.read_csv('/content/gdrive/MyDrive/kaggle/02_titanic/train.csv')\r\n",
        "test = pd.read_csv('/content/gdrive/MyDrive/kaggle/02_titanic/test.csv')\r\n",
        "submission = pd.read_csv('/content/gdrive/MyDrive/kaggle/02_titanic/sample_submission.csv')\r\n"
      ],
      "execution_count": 6,
      "outputs": []
    },
    {
      "cell_type": "markdown",
      "metadata": {
        "id": "J1OcIjLw5EcT"
      },
      "source": [
        "### 데이터 살펴보기\r\n",
        "- Dataframe.head()\r\n",
        "- Dataframe.tail()\r\n",
        "- Dataframe.info()\r\n",
        "- Datafame.describe()\r\n",
        "- Dataframe.shape()\r\n"
      ]
    },
    {
      "cell_type": "code",
      "metadata": {
        "colab": {
          "base_uri": "https://localhost:8080/",
          "height": 261
        },
        "id": "8RFXzijQ0VoX",
        "outputId": "b4868c96-b1f6-4c2d-c829-7245fc113505"
      },
      "source": [
        "train.head(3)"
      ],
      "execution_count": null,
      "outputs": [
        {
          "output_type": "execute_result",
          "data": {
            "text/html": [
              "<div>\n",
              "<style scoped>\n",
              "    .dataframe tbody tr th:only-of-type {\n",
              "        vertical-align: middle;\n",
              "    }\n",
              "\n",
              "    .dataframe tbody tr th {\n",
              "        vertical-align: top;\n",
              "    }\n",
              "\n",
              "    .dataframe thead th {\n",
              "        text-align: right;\n",
              "    }\n",
              "</style>\n",
              "<table border=\"1\" class=\"dataframe\">\n",
              "  <thead>\n",
              "    <tr style=\"text-align: right;\">\n",
              "      <th></th>\n",
              "      <th>PassengerId</th>\n",
              "      <th>Survived</th>\n",
              "      <th>Pclass</th>\n",
              "      <th>Name</th>\n",
              "      <th>Sex</th>\n",
              "      <th>Age</th>\n",
              "      <th>SibSp</th>\n",
              "      <th>Parch</th>\n",
              "      <th>Ticket</th>\n",
              "      <th>Fare</th>\n",
              "      <th>Cabin</th>\n",
              "      <th>Embarked</th>\n",
              "    </tr>\n",
              "  </thead>\n",
              "  <tbody>\n",
              "    <tr>\n",
              "      <th>0</th>\n",
              "      <td>1</td>\n",
              "      <td>0</td>\n",
              "      <td>3</td>\n",
              "      <td>Braund, Mr. Owen Harris</td>\n",
              "      <td>male</td>\n",
              "      <td>22.0</td>\n",
              "      <td>1</td>\n",
              "      <td>0</td>\n",
              "      <td>A/5 21171</td>\n",
              "      <td>7.2500</td>\n",
              "      <td>NaN</td>\n",
              "      <td>S</td>\n",
              "    </tr>\n",
              "    <tr>\n",
              "      <th>1</th>\n",
              "      <td>2</td>\n",
              "      <td>1</td>\n",
              "      <td>1</td>\n",
              "      <td>Cumings, Mrs. John Bradley (Florence Briggs Th...</td>\n",
              "      <td>female</td>\n",
              "      <td>38.0</td>\n",
              "      <td>1</td>\n",
              "      <td>0</td>\n",
              "      <td>PC 17599</td>\n",
              "      <td>71.2833</td>\n",
              "      <td>C85</td>\n",
              "      <td>C</td>\n",
              "    </tr>\n",
              "    <tr>\n",
              "      <th>2</th>\n",
              "      <td>3</td>\n",
              "      <td>1</td>\n",
              "      <td>3</td>\n",
              "      <td>Heikkinen, Miss. Laina</td>\n",
              "      <td>female</td>\n",
              "      <td>26.0</td>\n",
              "      <td>0</td>\n",
              "      <td>0</td>\n",
              "      <td>STON/O2. 3101282</td>\n",
              "      <td>7.9250</td>\n",
              "      <td>NaN</td>\n",
              "      <td>S</td>\n",
              "    </tr>\n",
              "  </tbody>\n",
              "</table>\n",
              "</div>"
            ],
            "text/plain": [
              "   PassengerId  Survived  Pclass  ...     Fare Cabin  Embarked\n",
              "0            1         0       3  ...   7.2500   NaN         S\n",
              "1            2         1       1  ...  71.2833   C85         C\n",
              "2            3         1       3  ...   7.9250   NaN         S\n",
              "\n",
              "[3 rows x 12 columns]"
            ]
          },
          "metadata": {
            "tags": []
          },
          "execution_count": 11
        }
      ]
    },
    {
      "cell_type": "code",
      "metadata": {
        "colab": {
          "base_uri": "https://localhost:8080/",
          "height": 227
        },
        "id": "5BB5XUST1ULP",
        "outputId": "87393807-7e1d-4c82-b0ba-c7280c8535af"
      },
      "source": [
        "train.tail(3)"
      ],
      "execution_count": null,
      "outputs": [
        {
          "output_type": "execute_result",
          "data": {
            "text/html": [
              "<div>\n",
              "<style scoped>\n",
              "    .dataframe tbody tr th:only-of-type {\n",
              "        vertical-align: middle;\n",
              "    }\n",
              "\n",
              "    .dataframe tbody tr th {\n",
              "        vertical-align: top;\n",
              "    }\n",
              "\n",
              "    .dataframe thead th {\n",
              "        text-align: right;\n",
              "    }\n",
              "</style>\n",
              "<table border=\"1\" class=\"dataframe\">\n",
              "  <thead>\n",
              "    <tr style=\"text-align: right;\">\n",
              "      <th></th>\n",
              "      <th>PassengerId</th>\n",
              "      <th>Survived</th>\n",
              "      <th>Pclass</th>\n",
              "      <th>Name</th>\n",
              "      <th>Sex</th>\n",
              "      <th>Age</th>\n",
              "      <th>SibSp</th>\n",
              "      <th>Parch</th>\n",
              "      <th>Ticket</th>\n",
              "      <th>Fare</th>\n",
              "      <th>Cabin</th>\n",
              "      <th>Embarked</th>\n",
              "    </tr>\n",
              "  </thead>\n",
              "  <tbody>\n",
              "    <tr>\n",
              "      <th>888</th>\n",
              "      <td>889</td>\n",
              "      <td>0</td>\n",
              "      <td>3</td>\n",
              "      <td>Johnston, Miss. Catherine Helen \"Carrie\"</td>\n",
              "      <td>female</td>\n",
              "      <td>NaN</td>\n",
              "      <td>1</td>\n",
              "      <td>2</td>\n",
              "      <td>W./C. 6607</td>\n",
              "      <td>23.45</td>\n",
              "      <td>NaN</td>\n",
              "      <td>S</td>\n",
              "    </tr>\n",
              "    <tr>\n",
              "      <th>889</th>\n",
              "      <td>890</td>\n",
              "      <td>1</td>\n",
              "      <td>1</td>\n",
              "      <td>Behr, Mr. Karl Howell</td>\n",
              "      <td>male</td>\n",
              "      <td>26.0</td>\n",
              "      <td>0</td>\n",
              "      <td>0</td>\n",
              "      <td>111369</td>\n",
              "      <td>30.00</td>\n",
              "      <td>C148</td>\n",
              "      <td>C</td>\n",
              "    </tr>\n",
              "    <tr>\n",
              "      <th>890</th>\n",
              "      <td>891</td>\n",
              "      <td>0</td>\n",
              "      <td>3</td>\n",
              "      <td>Dooley, Mr. Patrick</td>\n",
              "      <td>male</td>\n",
              "      <td>32.0</td>\n",
              "      <td>0</td>\n",
              "      <td>0</td>\n",
              "      <td>370376</td>\n",
              "      <td>7.75</td>\n",
              "      <td>NaN</td>\n",
              "      <td>Q</td>\n",
              "    </tr>\n",
              "  </tbody>\n",
              "</table>\n",
              "</div>"
            ],
            "text/plain": [
              "     PassengerId  Survived  Pclass  ...   Fare Cabin  Embarked\n",
              "888          889         0       3  ...  23.45   NaN         S\n",
              "889          890         1       1  ...  30.00  C148         C\n",
              "890          891         0       3  ...   7.75   NaN         Q\n",
              "\n",
              "[3 rows x 12 columns]"
            ]
          },
          "metadata": {
            "tags": []
          },
          "execution_count": 10
        }
      ]
    },
    {
      "cell_type": "code",
      "metadata": {
        "colab": {
          "base_uri": "https://localhost:8080/",
          "height": 297
        },
        "id": "7AM2WKGF2PG8",
        "outputId": "9dd34b12-aa72-406f-9070-9f8cac7cf550"
      },
      "source": [
        "train.describe()"
      ],
      "execution_count": null,
      "outputs": [
        {
          "output_type": "execute_result",
          "data": {
            "text/html": [
              "<div>\n",
              "<style scoped>\n",
              "    .dataframe tbody tr th:only-of-type {\n",
              "        vertical-align: middle;\n",
              "    }\n",
              "\n",
              "    .dataframe tbody tr th {\n",
              "        vertical-align: top;\n",
              "    }\n",
              "\n",
              "    .dataframe thead th {\n",
              "        text-align: right;\n",
              "    }\n",
              "</style>\n",
              "<table border=\"1\" class=\"dataframe\">\n",
              "  <thead>\n",
              "    <tr style=\"text-align: right;\">\n",
              "      <th></th>\n",
              "      <th>PassengerId</th>\n",
              "      <th>Survived</th>\n",
              "      <th>Pclass</th>\n",
              "      <th>Age</th>\n",
              "      <th>SibSp</th>\n",
              "      <th>Parch</th>\n",
              "      <th>Fare</th>\n",
              "    </tr>\n",
              "  </thead>\n",
              "  <tbody>\n",
              "    <tr>\n",
              "      <th>count</th>\n",
              "      <td>891.000000</td>\n",
              "      <td>891.000000</td>\n",
              "      <td>891.000000</td>\n",
              "      <td>714.000000</td>\n",
              "      <td>891.000000</td>\n",
              "      <td>891.000000</td>\n",
              "      <td>891.000000</td>\n",
              "    </tr>\n",
              "    <tr>\n",
              "      <th>mean</th>\n",
              "      <td>446.000000</td>\n",
              "      <td>0.383838</td>\n",
              "      <td>2.308642</td>\n",
              "      <td>29.699118</td>\n",
              "      <td>0.523008</td>\n",
              "      <td>0.381594</td>\n",
              "      <td>32.204208</td>\n",
              "    </tr>\n",
              "    <tr>\n",
              "      <th>std</th>\n",
              "      <td>257.353842</td>\n",
              "      <td>0.486592</td>\n",
              "      <td>0.836071</td>\n",
              "      <td>14.526497</td>\n",
              "      <td>1.102743</td>\n",
              "      <td>0.806057</td>\n",
              "      <td>49.693429</td>\n",
              "    </tr>\n",
              "    <tr>\n",
              "      <th>min</th>\n",
              "      <td>1.000000</td>\n",
              "      <td>0.000000</td>\n",
              "      <td>1.000000</td>\n",
              "      <td>0.420000</td>\n",
              "      <td>0.000000</td>\n",
              "      <td>0.000000</td>\n",
              "      <td>0.000000</td>\n",
              "    </tr>\n",
              "    <tr>\n",
              "      <th>25%</th>\n",
              "      <td>223.500000</td>\n",
              "      <td>0.000000</td>\n",
              "      <td>2.000000</td>\n",
              "      <td>20.125000</td>\n",
              "      <td>0.000000</td>\n",
              "      <td>0.000000</td>\n",
              "      <td>7.910400</td>\n",
              "    </tr>\n",
              "    <tr>\n",
              "      <th>50%</th>\n",
              "      <td>446.000000</td>\n",
              "      <td>0.000000</td>\n",
              "      <td>3.000000</td>\n",
              "      <td>28.000000</td>\n",
              "      <td>0.000000</td>\n",
              "      <td>0.000000</td>\n",
              "      <td>14.454200</td>\n",
              "    </tr>\n",
              "    <tr>\n",
              "      <th>75%</th>\n",
              "      <td>668.500000</td>\n",
              "      <td>1.000000</td>\n",
              "      <td>3.000000</td>\n",
              "      <td>38.000000</td>\n",
              "      <td>1.000000</td>\n",
              "      <td>0.000000</td>\n",
              "      <td>31.000000</td>\n",
              "    </tr>\n",
              "    <tr>\n",
              "      <th>max</th>\n",
              "      <td>891.000000</td>\n",
              "      <td>1.000000</td>\n",
              "      <td>3.000000</td>\n",
              "      <td>80.000000</td>\n",
              "      <td>8.000000</td>\n",
              "      <td>6.000000</td>\n",
              "      <td>512.329200</td>\n",
              "    </tr>\n",
              "  </tbody>\n",
              "</table>\n",
              "</div>"
            ],
            "text/plain": [
              "       PassengerId    Survived      Pclass  ...       SibSp       Parch        Fare\n",
              "count   891.000000  891.000000  891.000000  ...  891.000000  891.000000  891.000000\n",
              "mean    446.000000    0.383838    2.308642  ...    0.523008    0.381594   32.204208\n",
              "std     257.353842    0.486592    0.836071  ...    1.102743    0.806057   49.693429\n",
              "min       1.000000    0.000000    1.000000  ...    0.000000    0.000000    0.000000\n",
              "25%     223.500000    0.000000    2.000000  ...    0.000000    0.000000    7.910400\n",
              "50%     446.000000    0.000000    3.000000  ...    0.000000    0.000000   14.454200\n",
              "75%     668.500000    1.000000    3.000000  ...    1.000000    0.000000   31.000000\n",
              "max     891.000000    1.000000    3.000000  ...    8.000000    6.000000  512.329200\n",
              "\n",
              "[8 rows x 7 columns]"
            ]
          },
          "metadata": {
            "tags": []
          },
          "execution_count": 18
        }
      ]
    },
    {
      "cell_type": "code",
      "metadata": {
        "colab": {
          "base_uri": "https://localhost:8080/"
        },
        "id": "fokH21m112L-",
        "outputId": "8456ff70-8eb5-4c9f-c903-6eebb6b6ad9f"
      },
      "source": [
        "train.info()"
      ],
      "execution_count": null,
      "outputs": [
        {
          "output_type": "stream",
          "text": [
            "<class 'pandas.core.frame.DataFrame'>\n",
            "RangeIndex: 891 entries, 0 to 890\n",
            "Data columns (total 12 columns):\n",
            " #   Column       Non-Null Count  Dtype  \n",
            "---  ------       --------------  -----  \n",
            " 0   PassengerId  891 non-null    int64  \n",
            " 1   Survived     891 non-null    int64  \n",
            " 2   Pclass       891 non-null    int64  \n",
            " 3   Name         891 non-null    object \n",
            " 4   Sex          891 non-null    object \n",
            " 5   Age          714 non-null    float64\n",
            " 6   SibSp        891 non-null    int64  \n",
            " 7   Parch        891 non-null    int64  \n",
            " 8   Ticket       891 non-null    object \n",
            " 9   Fare         891 non-null    float64\n",
            " 10  Cabin        204 non-null    object \n",
            " 11  Embarked     889 non-null    object \n",
            "dtypes: float64(2), int64(5), object(5)\n",
            "memory usage: 83.7+ KB\n"
          ],
          "name": "stdout"
        }
      ]
    },
    {
      "cell_type": "code",
      "metadata": {
        "colab": {
          "base_uri": "https://localhost:8080/",
          "height": 159
        },
        "id": "TEkilw6R0_wt",
        "outputId": "926df97c-a011-4c03-853f-a9d051ef4711"
      },
      "source": [
        "test.head(3)"
      ],
      "execution_count": null,
      "outputs": [
        {
          "output_type": "execute_result",
          "data": {
            "text/html": [
              "<div>\n",
              "<style scoped>\n",
              "    .dataframe tbody tr th:only-of-type {\n",
              "        vertical-align: middle;\n",
              "    }\n",
              "\n",
              "    .dataframe tbody tr th {\n",
              "        vertical-align: top;\n",
              "    }\n",
              "\n",
              "    .dataframe thead th {\n",
              "        text-align: right;\n",
              "    }\n",
              "</style>\n",
              "<table border=\"1\" class=\"dataframe\">\n",
              "  <thead>\n",
              "    <tr style=\"text-align: right;\">\n",
              "      <th></th>\n",
              "      <th>PassengerId</th>\n",
              "      <th>Pclass</th>\n",
              "      <th>Name</th>\n",
              "      <th>Sex</th>\n",
              "      <th>Age</th>\n",
              "      <th>SibSp</th>\n",
              "      <th>Parch</th>\n",
              "      <th>Ticket</th>\n",
              "      <th>Fare</th>\n",
              "      <th>Cabin</th>\n",
              "      <th>Embarked</th>\n",
              "    </tr>\n",
              "  </thead>\n",
              "  <tbody>\n",
              "    <tr>\n",
              "      <th>0</th>\n",
              "      <td>892</td>\n",
              "      <td>3</td>\n",
              "      <td>Kelly, Mr. James</td>\n",
              "      <td>male</td>\n",
              "      <td>34.5</td>\n",
              "      <td>0</td>\n",
              "      <td>0</td>\n",
              "      <td>330911</td>\n",
              "      <td>7.8292</td>\n",
              "      <td>NaN</td>\n",
              "      <td>Q</td>\n",
              "    </tr>\n",
              "    <tr>\n",
              "      <th>1</th>\n",
              "      <td>893</td>\n",
              "      <td>3</td>\n",
              "      <td>Wilkes, Mrs. James (Ellen Needs)</td>\n",
              "      <td>female</td>\n",
              "      <td>47.0</td>\n",
              "      <td>1</td>\n",
              "      <td>0</td>\n",
              "      <td>363272</td>\n",
              "      <td>7.0000</td>\n",
              "      <td>NaN</td>\n",
              "      <td>S</td>\n",
              "    </tr>\n",
              "    <tr>\n",
              "      <th>2</th>\n",
              "      <td>894</td>\n",
              "      <td>2</td>\n",
              "      <td>Myles, Mr. Thomas Francis</td>\n",
              "      <td>male</td>\n",
              "      <td>62.0</td>\n",
              "      <td>0</td>\n",
              "      <td>0</td>\n",
              "      <td>240276</td>\n",
              "      <td>9.6875</td>\n",
              "      <td>NaN</td>\n",
              "      <td>Q</td>\n",
              "    </tr>\n",
              "  </tbody>\n",
              "</table>\n",
              "</div>"
            ],
            "text/plain": [
              "   PassengerId  Pclass                              Name  ...    Fare  Cabin  Embarked\n",
              "0          892       3                  Kelly, Mr. James  ...  7.8292    NaN         Q\n",
              "1          893       3  Wilkes, Mrs. James (Ellen Needs)  ...  7.0000    NaN         S\n",
              "2          894       2         Myles, Mr. Thomas Francis  ...  9.6875    NaN         Q\n",
              "\n",
              "[3 rows x 11 columns]"
            ]
          },
          "metadata": {
            "tags": []
          },
          "execution_count": 7
        }
      ]
    },
    {
      "cell_type": "code",
      "metadata": {
        "colab": {
          "base_uri": "https://localhost:8080/",
          "height": 193
        },
        "id": "Sl1JdCEF1W6J",
        "outputId": "88709600-cfe0-4e56-ffb3-52eb44c49816"
      },
      "source": [
        "test.tail(3)"
      ],
      "execution_count": null,
      "outputs": [
        {
          "output_type": "execute_result",
          "data": {
            "text/html": [
              "<div>\n",
              "<style scoped>\n",
              "    .dataframe tbody tr th:only-of-type {\n",
              "        vertical-align: middle;\n",
              "    }\n",
              "\n",
              "    .dataframe tbody tr th {\n",
              "        vertical-align: top;\n",
              "    }\n",
              "\n",
              "    .dataframe thead th {\n",
              "        text-align: right;\n",
              "    }\n",
              "</style>\n",
              "<table border=\"1\" class=\"dataframe\">\n",
              "  <thead>\n",
              "    <tr style=\"text-align: right;\">\n",
              "      <th></th>\n",
              "      <th>PassengerId</th>\n",
              "      <th>Pclass</th>\n",
              "      <th>Name</th>\n",
              "      <th>Sex</th>\n",
              "      <th>Age</th>\n",
              "      <th>SibSp</th>\n",
              "      <th>Parch</th>\n",
              "      <th>Ticket</th>\n",
              "      <th>Fare</th>\n",
              "      <th>Cabin</th>\n",
              "      <th>Embarked</th>\n",
              "    </tr>\n",
              "  </thead>\n",
              "  <tbody>\n",
              "    <tr>\n",
              "      <th>415</th>\n",
              "      <td>1307</td>\n",
              "      <td>3</td>\n",
              "      <td>Saether, Mr. Simon Sivertsen</td>\n",
              "      <td>male</td>\n",
              "      <td>38.5</td>\n",
              "      <td>0</td>\n",
              "      <td>0</td>\n",
              "      <td>SOTON/O.Q. 3101262</td>\n",
              "      <td>7.2500</td>\n",
              "      <td>NaN</td>\n",
              "      <td>S</td>\n",
              "    </tr>\n",
              "    <tr>\n",
              "      <th>416</th>\n",
              "      <td>1308</td>\n",
              "      <td>3</td>\n",
              "      <td>Ware, Mr. Frederick</td>\n",
              "      <td>male</td>\n",
              "      <td>NaN</td>\n",
              "      <td>0</td>\n",
              "      <td>0</td>\n",
              "      <td>359309</td>\n",
              "      <td>8.0500</td>\n",
              "      <td>NaN</td>\n",
              "      <td>S</td>\n",
              "    </tr>\n",
              "    <tr>\n",
              "      <th>417</th>\n",
              "      <td>1309</td>\n",
              "      <td>3</td>\n",
              "      <td>Peter, Master. Michael J</td>\n",
              "      <td>male</td>\n",
              "      <td>NaN</td>\n",
              "      <td>1</td>\n",
              "      <td>1</td>\n",
              "      <td>2668</td>\n",
              "      <td>22.3583</td>\n",
              "      <td>NaN</td>\n",
              "      <td>C</td>\n",
              "    </tr>\n",
              "  </tbody>\n",
              "</table>\n",
              "</div>"
            ],
            "text/plain": [
              "     PassengerId  Pclass                          Name  ...     Fare  Cabin  Embarked\n",
              "415         1307       3  Saether, Mr. Simon Sivertsen  ...   7.2500    NaN         S\n",
              "416         1308       3           Ware, Mr. Frederick  ...   8.0500    NaN         S\n",
              "417         1309       3      Peter, Master. Michael J  ...  22.3583    NaN         C\n",
              "\n",
              "[3 rows x 11 columns]"
            ]
          },
          "metadata": {
            "tags": []
          },
          "execution_count": 12
        }
      ]
    },
    {
      "cell_type": "code",
      "metadata": {
        "colab": {
          "base_uri": "https://localhost:8080/",
          "height": 297
        },
        "id": "iLv6Q9L-3n_O",
        "outputId": "654ffc0a-651a-4516-848b-1a4f5cfa210a"
      },
      "source": [
        "test.describe()"
      ],
      "execution_count": null,
      "outputs": [
        {
          "output_type": "execute_result",
          "data": {
            "text/html": [
              "<div>\n",
              "<style scoped>\n",
              "    .dataframe tbody tr th:only-of-type {\n",
              "        vertical-align: middle;\n",
              "    }\n",
              "\n",
              "    .dataframe tbody tr th {\n",
              "        vertical-align: top;\n",
              "    }\n",
              "\n",
              "    .dataframe thead th {\n",
              "        text-align: right;\n",
              "    }\n",
              "</style>\n",
              "<table border=\"1\" class=\"dataframe\">\n",
              "  <thead>\n",
              "    <tr style=\"text-align: right;\">\n",
              "      <th></th>\n",
              "      <th>PassengerId</th>\n",
              "      <th>Pclass</th>\n",
              "      <th>Age</th>\n",
              "      <th>SibSp</th>\n",
              "      <th>Parch</th>\n",
              "      <th>Fare</th>\n",
              "    </tr>\n",
              "  </thead>\n",
              "  <tbody>\n",
              "    <tr>\n",
              "      <th>count</th>\n",
              "      <td>418.000000</td>\n",
              "      <td>418.000000</td>\n",
              "      <td>332.000000</td>\n",
              "      <td>418.000000</td>\n",
              "      <td>418.000000</td>\n",
              "      <td>417.000000</td>\n",
              "    </tr>\n",
              "    <tr>\n",
              "      <th>mean</th>\n",
              "      <td>1100.500000</td>\n",
              "      <td>2.265550</td>\n",
              "      <td>30.272590</td>\n",
              "      <td>0.447368</td>\n",
              "      <td>0.392344</td>\n",
              "      <td>35.627188</td>\n",
              "    </tr>\n",
              "    <tr>\n",
              "      <th>std</th>\n",
              "      <td>120.810458</td>\n",
              "      <td>0.841838</td>\n",
              "      <td>14.181209</td>\n",
              "      <td>0.896760</td>\n",
              "      <td>0.981429</td>\n",
              "      <td>55.907576</td>\n",
              "    </tr>\n",
              "    <tr>\n",
              "      <th>min</th>\n",
              "      <td>892.000000</td>\n",
              "      <td>1.000000</td>\n",
              "      <td>0.170000</td>\n",
              "      <td>0.000000</td>\n",
              "      <td>0.000000</td>\n",
              "      <td>0.000000</td>\n",
              "    </tr>\n",
              "    <tr>\n",
              "      <th>25%</th>\n",
              "      <td>996.250000</td>\n",
              "      <td>1.000000</td>\n",
              "      <td>21.000000</td>\n",
              "      <td>0.000000</td>\n",
              "      <td>0.000000</td>\n",
              "      <td>7.895800</td>\n",
              "    </tr>\n",
              "    <tr>\n",
              "      <th>50%</th>\n",
              "      <td>1100.500000</td>\n",
              "      <td>3.000000</td>\n",
              "      <td>27.000000</td>\n",
              "      <td>0.000000</td>\n",
              "      <td>0.000000</td>\n",
              "      <td>14.454200</td>\n",
              "    </tr>\n",
              "    <tr>\n",
              "      <th>75%</th>\n",
              "      <td>1204.750000</td>\n",
              "      <td>3.000000</td>\n",
              "      <td>39.000000</td>\n",
              "      <td>1.000000</td>\n",
              "      <td>0.000000</td>\n",
              "      <td>31.500000</td>\n",
              "    </tr>\n",
              "    <tr>\n",
              "      <th>max</th>\n",
              "      <td>1309.000000</td>\n",
              "      <td>3.000000</td>\n",
              "      <td>76.000000</td>\n",
              "      <td>8.000000</td>\n",
              "      <td>9.000000</td>\n",
              "      <td>512.329200</td>\n",
              "    </tr>\n",
              "  </tbody>\n",
              "</table>\n",
              "</div>"
            ],
            "text/plain": [
              "       PassengerId      Pclass         Age       SibSp       Parch        Fare\n",
              "count   418.000000  418.000000  332.000000  418.000000  418.000000  417.000000\n",
              "mean   1100.500000    2.265550   30.272590    0.447368    0.392344   35.627188\n",
              "std     120.810458    0.841838   14.181209    0.896760    0.981429   55.907576\n",
              "min     892.000000    1.000000    0.170000    0.000000    0.000000    0.000000\n",
              "25%     996.250000    1.000000   21.000000    0.000000    0.000000    7.895800\n",
              "50%    1100.500000    3.000000   27.000000    0.000000    0.000000   14.454200\n",
              "75%    1204.750000    3.000000   39.000000    1.000000    0.000000   31.500000\n",
              "max    1309.000000    3.000000   76.000000    8.000000    9.000000  512.329200"
            ]
          },
          "metadata": {
            "tags": []
          },
          "execution_count": 19
        }
      ]
    },
    {
      "cell_type": "code",
      "metadata": {
        "colab": {
          "base_uri": "https://localhost:8080/"
        },
        "id": "d987FDdO2HCp",
        "outputId": "b3808dce-ee0c-4745-9af1-e0950fa6d529"
      },
      "source": [
        "test.info()"
      ],
      "execution_count": null,
      "outputs": [
        {
          "output_type": "stream",
          "text": [
            "<class 'pandas.core.frame.DataFrame'>\n",
            "RangeIndex: 418 entries, 0 to 417\n",
            "Data columns (total 11 columns):\n",
            " #   Column       Non-Null Count  Dtype  \n",
            "---  ------       --------------  -----  \n",
            " 0   PassengerId  418 non-null    int64  \n",
            " 1   Pclass       418 non-null    int64  \n",
            " 2   Name         418 non-null    object \n",
            " 3   Sex          418 non-null    object \n",
            " 4   Age          332 non-null    float64\n",
            " 5   SibSp        418 non-null    int64  \n",
            " 6   Parch        418 non-null    int64  \n",
            " 7   Ticket       418 non-null    object \n",
            " 8   Fare         417 non-null    float64\n",
            " 9   Cabin        91 non-null     object \n",
            " 10  Embarked     418 non-null    object \n",
            "dtypes: float64(2), int64(4), object(5)\n",
            "memory usage: 36.0+ KB\n"
          ],
          "name": "stdout"
        }
      ]
    },
    {
      "cell_type": "code",
      "metadata": {
        "colab": {
          "base_uri": "https://localhost:8080/",
          "height": 142
        },
        "id": "S-fShxzJ1I0c",
        "outputId": "93d59c62-7370-4b25-fc39-de99fa0a18fe"
      },
      "source": [
        "submission.head(3)"
      ],
      "execution_count": null,
      "outputs": [
        {
          "output_type": "execute_result",
          "data": {
            "text/html": [
              "<div>\n",
              "<style scoped>\n",
              "    .dataframe tbody tr th:only-of-type {\n",
              "        vertical-align: middle;\n",
              "    }\n",
              "\n",
              "    .dataframe tbody tr th {\n",
              "        vertical-align: top;\n",
              "    }\n",
              "\n",
              "    .dataframe thead th {\n",
              "        text-align: right;\n",
              "    }\n",
              "</style>\n",
              "<table border=\"1\" class=\"dataframe\">\n",
              "  <thead>\n",
              "    <tr style=\"text-align: right;\">\n",
              "      <th></th>\n",
              "      <th>PassengerId</th>\n",
              "      <th>Survived</th>\n",
              "    </tr>\n",
              "  </thead>\n",
              "  <tbody>\n",
              "    <tr>\n",
              "      <th>0</th>\n",
              "      <td>892</td>\n",
              "      <td>0</td>\n",
              "    </tr>\n",
              "    <tr>\n",
              "      <th>1</th>\n",
              "      <td>893</td>\n",
              "      <td>1</td>\n",
              "    </tr>\n",
              "    <tr>\n",
              "      <th>2</th>\n",
              "      <td>894</td>\n",
              "      <td>0</td>\n",
              "    </tr>\n",
              "  </tbody>\n",
              "</table>\n",
              "</div>"
            ],
            "text/plain": [
              "   PassengerId  Survived\n",
              "0          892         0\n",
              "1          893         1\n",
              "2          894         0"
            ]
          },
          "metadata": {
            "tags": []
          },
          "execution_count": 8
        }
      ]
    },
    {
      "cell_type": "code",
      "metadata": {
        "colab": {
          "base_uri": "https://localhost:8080/",
          "height": 142
        },
        "id": "jkH_kMYG1ZY9",
        "outputId": "c1efbfb0-80bb-409b-b75d-4d5f1ce4c558"
      },
      "source": [
        "submission.tail(3)"
      ],
      "execution_count": null,
      "outputs": [
        {
          "output_type": "execute_result",
          "data": {
            "text/html": [
              "<div>\n",
              "<style scoped>\n",
              "    .dataframe tbody tr th:only-of-type {\n",
              "        vertical-align: middle;\n",
              "    }\n",
              "\n",
              "    .dataframe tbody tr th {\n",
              "        vertical-align: top;\n",
              "    }\n",
              "\n",
              "    .dataframe thead th {\n",
              "        text-align: right;\n",
              "    }\n",
              "</style>\n",
              "<table border=\"1\" class=\"dataframe\">\n",
              "  <thead>\n",
              "    <tr style=\"text-align: right;\">\n",
              "      <th></th>\n",
              "      <th>PassengerId</th>\n",
              "      <th>Survived</th>\n",
              "    </tr>\n",
              "  </thead>\n",
              "  <tbody>\n",
              "    <tr>\n",
              "      <th>415</th>\n",
              "      <td>1307</td>\n",
              "      <td>0</td>\n",
              "    </tr>\n",
              "    <tr>\n",
              "      <th>416</th>\n",
              "      <td>1308</td>\n",
              "      <td>0</td>\n",
              "    </tr>\n",
              "    <tr>\n",
              "      <th>417</th>\n",
              "      <td>1309</td>\n",
              "      <td>0</td>\n",
              "    </tr>\n",
              "  </tbody>\n",
              "</table>\n",
              "</div>"
            ],
            "text/plain": [
              "     PassengerId  Survived\n",
              "415         1307         0\n",
              "416         1308         0\n",
              "417         1309         0"
            ]
          },
          "metadata": {
            "tags": []
          },
          "execution_count": 13
        }
      ]
    },
    {
      "cell_type": "code",
      "metadata": {
        "colab": {
          "base_uri": "https://localhost:8080/"
        },
        "id": "Xsgr8iTU2Jn1",
        "outputId": "bf6bc7a5-9e29-4eda-b654-d1b4da9d94fc"
      },
      "source": [
        "submission.info()"
      ],
      "execution_count": null,
      "outputs": [
        {
          "output_type": "stream",
          "text": [
            "<class 'pandas.core.frame.DataFrame'>\n",
            "RangeIndex: 418 entries, 0 to 417\n",
            "Data columns (total 2 columns):\n",
            " #   Column       Non-Null Count  Dtype\n",
            "---  ------       --------------  -----\n",
            " 0   PassengerId  418 non-null    int64\n",
            " 1   Survived     418 non-null    int64\n",
            "dtypes: int64(2)\n",
            "memory usage: 6.7 KB\n"
          ],
          "name": "stdout"
        }
      ]
    },
    {
      "cell_type": "code",
      "metadata": {
        "colab": {
          "base_uri": "https://localhost:8080/"
        },
        "id": "K-3rRh-c1owB",
        "outputId": "e2eb1ff4-de05-4df4-b3a1-e79736cf7f13"
      },
      "source": [
        "print(train.shape)\r\n",
        "print(test.shape)\r\n",
        "print(submission.shape)"
      ],
      "execution_count": null,
      "outputs": [
        {
          "output_type": "stream",
          "text": [
            "(891, 12)\n",
            "(418, 11)\n",
            "(418, 2)\n"
          ],
          "name": "stdout"
        }
      ]
    },
    {
      "cell_type": "markdown",
      "metadata": {
        "id": "vlUaNcz_5wv5"
      },
      "source": [
        "### 데이터 분석하기\r\n",
        "- DataFrame -> Series\r\n",
        "- Series.value_counts()\r\n",
        "- Series.unique()\r\n",
        "- Datafame.groupby('att').mean()"
      ]
    },
    {
      "cell_type": "code",
      "metadata": {
        "colab": {
          "base_uri": "https://localhost:8080/"
        },
        "id": "n0k_lZT139sP",
        "outputId": "73c09e5a-5f7c-411e-848b-c6f5c26d76a0"
      },
      "source": [
        "train['Embarked'].value_counts()"
      ],
      "execution_count": null,
      "outputs": [
        {
          "output_type": "execute_result",
          "data": {
            "text/plain": [
              "S    644\n",
              "C    168\n",
              "Q     77\n",
              "Name: Embarked, dtype: int64"
            ]
          },
          "metadata": {
            "tags": []
          },
          "execution_count": 22
        }
      ]
    },
    {
      "cell_type": "code",
      "metadata": {
        "colab": {
          "base_uri": "https://localhost:8080/"
        },
        "id": "IWktYAoa4NCz",
        "outputId": "90ad4058-d2f2-4b9d-a16c-0c91c1fea010"
      },
      "source": [
        "train['Embarked'].unique()"
      ],
      "execution_count": null,
      "outputs": [
        {
          "output_type": "execute_result",
          "data": {
            "text/plain": [
              "array(['S', 'C', 'Q', nan], dtype=object)"
            ]
          },
          "metadata": {
            "tags": []
          },
          "execution_count": 23
        }
      ]
    },
    {
      "cell_type": "markdown",
      "metadata": {
        "id": "-Ir1paIv6oAG"
      },
      "source": [
        "#### 성별에 따른 생존률\r\n",
        "- 남성 : 18%\r\n",
        "- 여성 : 74%"
      ]
    },
    {
      "cell_type": "code",
      "metadata": {
        "colab": {
          "base_uri": "https://localhost:8080/",
          "height": 142
        },
        "id": "XzqpiU8W4Yfq",
        "outputId": "24fdb45a-c675-4ab5-e9e3-e2c3620e82ef"
      },
      "source": [
        "train.groupby('Sex').mean()"
      ],
      "execution_count": null,
      "outputs": [
        {
          "output_type": "execute_result",
          "data": {
            "text/html": [
              "<div>\n",
              "<style scoped>\n",
              "    .dataframe tbody tr th:only-of-type {\n",
              "        vertical-align: middle;\n",
              "    }\n",
              "\n",
              "    .dataframe tbody tr th {\n",
              "        vertical-align: top;\n",
              "    }\n",
              "\n",
              "    .dataframe thead th {\n",
              "        text-align: right;\n",
              "    }\n",
              "</style>\n",
              "<table border=\"1\" class=\"dataframe\">\n",
              "  <thead>\n",
              "    <tr style=\"text-align: right;\">\n",
              "      <th></th>\n",
              "      <th>PassengerId</th>\n",
              "      <th>Survived</th>\n",
              "      <th>Pclass</th>\n",
              "      <th>Age</th>\n",
              "      <th>SibSp</th>\n",
              "      <th>Parch</th>\n",
              "      <th>Fare</th>\n",
              "    </tr>\n",
              "    <tr>\n",
              "      <th>Sex</th>\n",
              "      <th></th>\n",
              "      <th></th>\n",
              "      <th></th>\n",
              "      <th></th>\n",
              "      <th></th>\n",
              "      <th></th>\n",
              "      <th></th>\n",
              "    </tr>\n",
              "  </thead>\n",
              "  <tbody>\n",
              "    <tr>\n",
              "      <th>female</th>\n",
              "      <td>431.028662</td>\n",
              "      <td>0.742038</td>\n",
              "      <td>2.159236</td>\n",
              "      <td>27.915709</td>\n",
              "      <td>0.694268</td>\n",
              "      <td>0.649682</td>\n",
              "      <td>44.479818</td>\n",
              "    </tr>\n",
              "    <tr>\n",
              "      <th>male</th>\n",
              "      <td>454.147314</td>\n",
              "      <td>0.188908</td>\n",
              "      <td>2.389948</td>\n",
              "      <td>30.726645</td>\n",
              "      <td>0.429809</td>\n",
              "      <td>0.235702</td>\n",
              "      <td>25.523893</td>\n",
              "    </tr>\n",
              "  </tbody>\n",
              "</table>\n",
              "</div>"
            ],
            "text/plain": [
              "        PassengerId  Survived    Pclass  ...     SibSp     Parch       Fare\n",
              "Sex                                      ...                               \n",
              "female   431.028662  0.742038  2.159236  ...  0.694268  0.649682  44.479818\n",
              "male     454.147314  0.188908  2.389948  ...  0.429809  0.235702  25.523893\n",
              "\n",
              "[2 rows x 7 columns]"
            ]
          },
          "metadata": {
            "tags": []
          },
          "execution_count": 26
        }
      ]
    },
    {
      "cell_type": "markdown",
      "metadata": {
        "id": "hXQIlGqc65Lv"
      },
      "source": [
        "#### 객실 등급에 따른 생존률\r\n",
        "- 1등급 : 62%\r\n",
        "- 2등급 : 47%\r\n",
        "- 3등급 : 24%"
      ]
    },
    {
      "cell_type": "code",
      "metadata": {
        "colab": {
          "base_uri": "https://localhost:8080/",
          "height": 173
        },
        "id": "e0ECiCcS4ss8",
        "outputId": "c99c1097-6527-467d-a0de-f642d9012039"
      },
      "source": [
        "train.groupby('Pclass').mean()"
      ],
      "execution_count": null,
      "outputs": [
        {
          "output_type": "execute_result",
          "data": {
            "text/html": [
              "<div>\n",
              "<style scoped>\n",
              "    .dataframe tbody tr th:only-of-type {\n",
              "        vertical-align: middle;\n",
              "    }\n",
              "\n",
              "    .dataframe tbody tr th {\n",
              "        vertical-align: top;\n",
              "    }\n",
              "\n",
              "    .dataframe thead th {\n",
              "        text-align: right;\n",
              "    }\n",
              "</style>\n",
              "<table border=\"1\" class=\"dataframe\">\n",
              "  <thead>\n",
              "    <tr style=\"text-align: right;\">\n",
              "      <th></th>\n",
              "      <th>PassengerId</th>\n",
              "      <th>Survived</th>\n",
              "      <th>Age</th>\n",
              "      <th>SibSp</th>\n",
              "      <th>Parch</th>\n",
              "      <th>Fare</th>\n",
              "    </tr>\n",
              "    <tr>\n",
              "      <th>Pclass</th>\n",
              "      <th></th>\n",
              "      <th></th>\n",
              "      <th></th>\n",
              "      <th></th>\n",
              "      <th></th>\n",
              "      <th></th>\n",
              "    </tr>\n",
              "  </thead>\n",
              "  <tbody>\n",
              "    <tr>\n",
              "      <th>1</th>\n",
              "      <td>461.597222</td>\n",
              "      <td>0.629630</td>\n",
              "      <td>38.233441</td>\n",
              "      <td>0.416667</td>\n",
              "      <td>0.356481</td>\n",
              "      <td>84.154687</td>\n",
              "    </tr>\n",
              "    <tr>\n",
              "      <th>2</th>\n",
              "      <td>445.956522</td>\n",
              "      <td>0.472826</td>\n",
              "      <td>29.877630</td>\n",
              "      <td>0.402174</td>\n",
              "      <td>0.380435</td>\n",
              "      <td>20.662183</td>\n",
              "    </tr>\n",
              "    <tr>\n",
              "      <th>3</th>\n",
              "      <td>439.154786</td>\n",
              "      <td>0.242363</td>\n",
              "      <td>25.140620</td>\n",
              "      <td>0.615071</td>\n",
              "      <td>0.393075</td>\n",
              "      <td>13.675550</td>\n",
              "    </tr>\n",
              "  </tbody>\n",
              "</table>\n",
              "</div>"
            ],
            "text/plain": [
              "        PassengerId  Survived        Age     SibSp     Parch       Fare\n",
              "Pclass                                                                 \n",
              "1        461.597222  0.629630  38.233441  0.416667  0.356481  84.154687\n",
              "2        445.956522  0.472826  29.877630  0.402174  0.380435  20.662183\n",
              "3        439.154786  0.242363  25.140620  0.615071  0.393075  13.675550"
            ]
          },
          "metadata": {
            "tags": []
          },
          "execution_count": 27
        }
      ]
    },
    {
      "cell_type": "code",
      "metadata": {
        "colab": {
          "base_uri": "https://localhost:8080/"
        },
        "id": "ZnK9L-0X7dPJ",
        "outputId": "db9c7e93-25d6-480a-af84-96510eaf011a"
      },
      "source": [
        "train.groupby('Pclass').mean()['Survived']"
      ],
      "execution_count": null,
      "outputs": [
        {
          "output_type": "execute_result",
          "data": {
            "text/plain": [
              "Pclass\n",
              "1    0.629630\n",
              "2    0.472826\n",
              "3    0.242363\n",
              "Name: Survived, dtype: float64"
            ]
          },
          "metadata": {
            "tags": []
          },
          "execution_count": 29
        }
      ]
    },
    {
      "cell_type": "markdown",
      "metadata": {
        "id": "OvwH-wOB7omr"
      },
      "source": [
        "### 데이터 시각화 하기\r\n",
        "- Series.plot()\r\n",
        "- Series.plot(kind='bar')\r\n",
        "- Series.plot(kind='hist')\r\n",
        "- Series.plot(x, y, kind='scatter')\r\n"
      ]
    },
    {
      "cell_type": "code",
      "metadata": {
        "colab": {
          "base_uri": "https://localhost:8080/",
          "height": 297
        },
        "id": "zbUUOTD67s1R",
        "outputId": "05511292-ad54-4e26-baa0-483db4ac9960"
      },
      "source": [
        "train.groupby('Pclass').mean()['Survived'].plot()"
      ],
      "execution_count": null,
      "outputs": [
        {
          "output_type": "execute_result",
          "data": {
            "text/plain": [
              "<matplotlib.axes._subplots.AxesSubplot at 0x7f7f224f41d0>"
            ]
          },
          "metadata": {
            "tags": []
          },
          "execution_count": 30
        },
        {
          "output_type": "display_data",
          "data": {
            "image/png": "[encoded data removed]",
            "text/plain": [
              "<Figure size 432x288 with 1 Axes>"
            ]
          },
          "metadata": {
            "tags": [],
            "needs_background": "light"
          }
        }
      ]
    },
    {
      "cell_type": "code",
      "metadata": {
        "colab": {
          "base_uri": "https://localhost:8080/",
          "height": 294
        },
        "id": "6A3N-R0l7xOU",
        "outputId": "81930d6a-413c-4ead-f890-b6ca621be320"
      },
      "source": [
        "train.groupby('Pclass').mean()['Survived'].plot(kind='bar')"
      ],
      "execution_count": null,
      "outputs": [
        {
          "output_type": "execute_result",
          "data": {
            "text/plain": [
              "<matplotlib.axes._subplots.AxesSubplot at 0x7f7f2242d940>"
            ]
          },
          "metadata": {
            "tags": []
          },
          "execution_count": 31
        },
        {
          "output_type": "display_data",
          "data": {
            "image/png": "[encoded data removed]",
            "text/plain": [
              "<Figure size 432x288 with 1 Axes>"
            ]
          },
          "metadata": {
            "tags": [],
            "needs_background": "light"
          }
        }
      ]
    },
    {
      "cell_type": "code",
      "metadata": {
        "colab": {
          "base_uri": "https://localhost:8080/",
          "height": 299
        },
        "id": "g8NB7qFg8Nur",
        "outputId": "a709b6ac-ee7c-40ec-9f54-07260037ea9d"
      },
      "source": [
        "train.groupby('Pclass').mean()['Survived'].plot(kind='bar', rot=45)"
      ],
      "execution_count": null,
      "outputs": [
        {
          "output_type": "execute_result",
          "data": {
            "text/plain": [
              "<matplotlib.axes._subplots.AxesSubplot at 0x7f7f21ee02e8>"
            ]
          },
          "metadata": {
            "tags": []
          },
          "execution_count": 33
        },
        {
          "output_type": "display_data",
          "data": {
            "image/png": "[encoded data removed]",
            "text/plain": [
              "<Figure size 432x288 with 1 Axes>"
            ]
          },
          "metadata": {
            "tags": [],
            "needs_background": "light"
          }
        }
      ]
    },
    {
      "cell_type": "code",
      "metadata": {
        "colab": {
          "base_uri": "https://localhost:8080/",
          "height": 283
        },
        "id": "sb_PfMtz8GVA",
        "outputId": "a1e6faae-ff59-4615-9556-b0b61d760267"
      },
      "source": [
        "train['Age'].plot(kind='hist', bins=30)"
      ],
      "execution_count": null,
      "outputs": [
        {
          "output_type": "execute_result",
          "data": {
            "text/plain": [
              "<matplotlib.axes._subplots.AxesSubplot at 0x7f7f21d83ba8>"
            ]
          },
          "metadata": {
            "tags": []
          },
          "execution_count": 37
        },
        {
          "output_type": "display_data",
          "data": {
            "image/png": "[encoded data removed]",
            "text/plain": [
              "<Figure size 432x288 with 1 Axes>"
            ]
          },
          "metadata": {
            "tags": [],
            "needs_background": "light"
          }
        }
      ]
    },
    {
      "cell_type": "code",
      "metadata": {
        "colab": {
          "base_uri": "https://localhost:8080/",
          "height": 297
        },
        "id": "SrpBTdeP8uPX",
        "outputId": "6d85e22e-6977-465b-9a96-ffc8f0f08c19"
      },
      "source": [
        "train.plot(x= 'Age', y='Fare' ,kind=\"scatter\")"
      ],
      "execution_count": null,
      "outputs": [
        {
          "output_type": "execute_result",
          "data": {
            "text/plain": [
              "<matplotlib.axes._subplots.AxesSubplot at 0x7f7f21ed3240>"
            ]
          },
          "metadata": {
            "tags": []
          },
          "execution_count": 38
        },
        {
          "output_type": "display_data",
          "data": {
            "image/png": "[encoded data removed]",
            "text/plain": [
              "<Figure size 432x288 with 1 Axes>"
            ]
          },
          "metadata": {
            "tags": [],
            "needs_background": "light"
          }
        }
      ]
    },
    {
      "cell_type": "markdown",
      "metadata": {
        "id": "1Wst6k5h9NP3"
      },
      "source": [
        "\r\n",
        "\r\n",
        "```\r\n",
        "# 코드로 형식 지정됨\r\n",
        "```\r\n",
        "\r\n",
        "### 데이터 전처리\r\n",
        "#### 결측 값\r\n",
        "- series.isna()\r\n",
        "  - 값이 없는 경우 True\r\n",
        "- series.fillna(value)\r\n",
        "  - 값이 비었으면 특정 값으로 채우기\r\n",
        "#### 표시형식 변환\r\n",
        "- series.map(\r\n",
        "  {\r\n",
        "    a : b,\r\n",
        "    c : d,\r\n",
        "  }\r\n",
        ")\r\n",
        "  - a -> b\r\n",
        "  - c -> d"
      ]
    },
    {
      "cell_type": "code",
      "metadata": {
        "colab": {
          "base_uri": "https://localhost:8080/",
          "height": 419
        },
        "id": "wNiSnPUT9FK0",
        "outputId": "17c5509e-e77a-4a0b-a464-ea38e23c9642"
      },
      "source": [
        "train.isna()"
      ],
      "execution_count": null,
      "outputs": [
        {
          "output_type": "execute_result",
          "data": {
            "text/html": [
              "<div>\n",
              "<style scoped>\n",
              "    .dataframe tbody tr th:only-of-type {\n",
              "        vertical-align: middle;\n",
              "    }\n",
              "\n",
              "    .dataframe tbody tr th {\n",
              "        vertical-align: top;\n",
              "    }\n",
              "\n",
              "    .dataframe thead th {\n",
              "        text-align: right;\n",
              "    }\n",
              "</style>\n",
              "<table border=\"1\" class=\"dataframe\">\n",
              "  <thead>\n",
              "    <tr style=\"text-align: right;\">\n",
              "      <th></th>\n",
              "      <th>PassengerId</th>\n",
              "      <th>Survived</th>\n",
              "      <th>Pclass</th>\n",
              "      <th>Name</th>\n",
              "      <th>Sex</th>\n",
              "      <th>Age</th>\n",
              "      <th>SibSp</th>\n",
              "      <th>Parch</th>\n",
              "      <th>Ticket</th>\n",
              "      <th>Fare</th>\n",
              "      <th>Cabin</th>\n",
              "      <th>Embarked</th>\n",
              "    </tr>\n",
              "  </thead>\n",
              "  <tbody>\n",
              "    <tr>\n",
              "      <th>0</th>\n",
              "      <td>False</td>\n",
              "      <td>False</td>\n",
              "      <td>False</td>\n",
              "      <td>False</td>\n",
              "      <td>False</td>\n",
              "      <td>False</td>\n",
              "      <td>False</td>\n",
              "      <td>False</td>\n",
              "      <td>False</td>\n",
              "      <td>False</td>\n",
              "      <td>True</td>\n",
              "      <td>False</td>\n",
              "    </tr>\n",
              "    <tr>\n",
              "      <th>1</th>\n",
              "      <td>False</td>\n",
              "      <td>False</td>\n",
              "      <td>False</td>\n",
              "      <td>False</td>\n",
              "      <td>False</td>\n",
              "      <td>False</td>\n",
              "      <td>False</td>\n",
              "      <td>False</td>\n",
              "      <td>False</td>\n",
              "      <td>False</td>\n",
              "      <td>False</td>\n",
              "      <td>False</td>\n",
              "    </tr>\n",
              "    <tr>\n",
              "      <th>2</th>\n",
              "      <td>False</td>\n",
              "      <td>False</td>\n",
              "      <td>False</td>\n",
              "      <td>False</td>\n",
              "      <td>False</td>\n",
              "      <td>False</td>\n",
              "      <td>False</td>\n",
              "      <td>False</td>\n",
              "      <td>False</td>\n",
              "      <td>False</td>\n",
              "      <td>True</td>\n",
              "      <td>False</td>\n",
              "    </tr>\n",
              "    <tr>\n",
              "      <th>3</th>\n",
              "      <td>False</td>\n",
              "      <td>False</td>\n",
              "      <td>False</td>\n",
              "      <td>False</td>\n",
              "      <td>False</td>\n",
              "      <td>False</td>\n",
              "      <td>False</td>\n",
              "      <td>False</td>\n",
              "      <td>False</td>\n",
              "      <td>False</td>\n",
              "      <td>False</td>\n",
              "      <td>False</td>\n",
              "    </tr>\n",
              "    <tr>\n",
              "      <th>4</th>\n",
              "      <td>False</td>\n",
              "      <td>False</td>\n",
              "      <td>False</td>\n",
              "      <td>False</td>\n",
              "      <td>False</td>\n",
              "      <td>False</td>\n",
              "      <td>False</td>\n",
              "      <td>False</td>\n",
              "      <td>False</td>\n",
              "      <td>False</td>\n",
              "      <td>True</td>\n",
              "      <td>False</td>\n",
              "    </tr>\n",
              "    <tr>\n",
              "      <th>...</th>\n",
              "      <td>...</td>\n",
              "      <td>...</td>\n",
              "      <td>...</td>\n",
              "      <td>...</td>\n",
              "      <td>...</td>\n",
              "      <td>...</td>\n",
              "      <td>...</td>\n",
              "      <td>...</td>\n",
              "      <td>...</td>\n",
              "      <td>...</td>\n",
              "      <td>...</td>\n",
              "      <td>...</td>\n",
              "    </tr>\n",
              "    <tr>\n",
              "      <th>886</th>\n",
              "      <td>False</td>\n",
              "      <td>False</td>\n",
              "      <td>False</td>\n",
              "      <td>False</td>\n",
              "      <td>False</td>\n",
              "      <td>False</td>\n",
              "      <td>False</td>\n",
              "      <td>False</td>\n",
              "      <td>False</td>\n",
              "      <td>False</td>\n",
              "      <td>True</td>\n",
              "      <td>False</td>\n",
              "    </tr>\n",
              "    <tr>\n",
              "      <th>887</th>\n",
              "      <td>False</td>\n",
              "      <td>False</td>\n",
              "      <td>False</td>\n",
              "      <td>False</td>\n",
              "      <td>False</td>\n",
              "      <td>False</td>\n",
              "      <td>False</td>\n",
              "      <td>False</td>\n",
              "      <td>False</td>\n",
              "      <td>False</td>\n",
              "      <td>False</td>\n",
              "      <td>False</td>\n",
              "    </tr>\n",
              "    <tr>\n",
              "      <th>888</th>\n",
              "      <td>False</td>\n",
              "      <td>False</td>\n",
              "      <td>False</td>\n",
              "      <td>False</td>\n",
              "      <td>False</td>\n",
              "      <td>True</td>\n",
              "      <td>False</td>\n",
              "      <td>False</td>\n",
              "      <td>False</td>\n",
              "      <td>False</td>\n",
              "      <td>True</td>\n",
              "      <td>False</td>\n",
              "    </tr>\n",
              "    <tr>\n",
              "      <th>889</th>\n",
              "      <td>False</td>\n",
              "      <td>False</td>\n",
              "      <td>False</td>\n",
              "      <td>False</td>\n",
              "      <td>False</td>\n",
              "      <td>False</td>\n",
              "      <td>False</td>\n",
              "      <td>False</td>\n",
              "      <td>False</td>\n",
              "      <td>False</td>\n",
              "      <td>False</td>\n",
              "      <td>False</td>\n",
              "    </tr>\n",
              "    <tr>\n",
              "      <th>890</th>\n",
              "      <td>False</td>\n",
              "      <td>False</td>\n",
              "      <td>False</td>\n",
              "      <td>False</td>\n",
              "      <td>False</td>\n",
              "      <td>False</td>\n",
              "      <td>False</td>\n",
              "      <td>False</td>\n",
              "      <td>False</td>\n",
              "      <td>False</td>\n",
              "      <td>True</td>\n",
              "      <td>False</td>\n",
              "    </tr>\n",
              "  </tbody>\n",
              "</table>\n",
              "<p>891 rows × 12 columns</p>\n",
              "</div>"
            ],
            "text/plain": [
              "     PassengerId  Survived  Pclass   Name  ...  Ticket   Fare  Cabin  Embarked\n",
              "0          False     False   False  False  ...   False  False   True     False\n",
              "1          False     False   False  False  ...   False  False  False     False\n",
              "2          False     False   False  False  ...   False  False   True     False\n",
              "3          False     False   False  False  ...   False  False  False     False\n",
              "4          False     False   False  False  ...   False  False   True     False\n",
              "..           ...       ...     ...    ...  ...     ...    ...    ...       ...\n",
              "886        False     False   False  False  ...   False  False   True     False\n",
              "887        False     False   False  False  ...   False  False  False     False\n",
              "888        False     False   False  False  ...   False  False   True     False\n",
              "889        False     False   False  False  ...   False  False  False     False\n",
              "890        False     False   False  False  ...   False  False   True     False\n",
              "\n",
              "[891 rows x 12 columns]"
            ]
          },
          "metadata": {
            "tags": []
          },
          "execution_count": 39
        }
      ]
    },
    {
      "cell_type": "code",
      "metadata": {
        "colab": {
          "base_uri": "https://localhost:8080/"
        },
        "id": "L5l67UCr9pNU",
        "outputId": "a7b07387-7ae9-473e-e358-3bfb9d43d2bd"
      },
      "source": [
        "train.isna().sum()"
      ],
      "execution_count": null,
      "outputs": [
        {
          "output_type": "execute_result",
          "data": {
            "text/plain": [
              "PassengerId      0\n",
              "Survived         0\n",
              "Pclass           0\n",
              "Name             0\n",
              "Sex              0\n",
              "Age            177\n",
              "SibSp            0\n",
              "Parch            0\n",
              "Ticket           0\n",
              "Fare             0\n",
              "Cabin          687\n",
              "Embarked         2\n",
              "dtype: int64"
            ]
          },
          "metadata": {
            "tags": []
          },
          "execution_count": 40
        }
      ]
    },
    {
      "cell_type": "code",
      "metadata": {
        "id": "Z4u9FBYR-GCC",
        "colab": {
          "base_uri": "https://localhost:8080/"
        },
        "outputId": "4af5f41e-c820-4966-f35c-186e77ff481d"
      },
      "source": [
        "train['Age'].median()"
      ],
      "execution_count": 8,
      "outputs": [
        {
          "output_type": "execute_result",
          "data": {
            "text/plain": [
              "28.0"
            ]
          },
          "metadata": {
            "tags": []
          },
          "execution_count": 8
        }
      ]
    },
    {
      "cell_type": "code",
      "metadata": {
        "id": "tpYvr9gAPE0f"
      },
      "source": [
        "train['Age'] = train['Age'].fillna(train['Age'].median())"
      ],
      "execution_count": 12,
      "outputs": []
    },
    {
      "cell_type": "code",
      "metadata": {
        "colab": {
          "base_uri": "https://localhost:8080/"
        },
        "id": "wRyiqNudPbqY",
        "outputId": "d62b87ab-2c49-47d4-8fe2-96f2afe20349"
      },
      "source": [
        "train.isna().sum()"
      ],
      "execution_count": 13,
      "outputs": [
        {
          "output_type": "execute_result",
          "data": {
            "text/plain": [
              "PassengerId      0\n",
              "Survived         0\n",
              "Pclass           0\n",
              "Name             0\n",
              "Sex              0\n",
              "Age              0\n",
              "SibSp            0\n",
              "Parch            0\n",
              "Ticket           0\n",
              "Fare             0\n",
              "Cabin          687\n",
              "Embarked         2\n",
              "dtype: int64"
            ]
          },
          "metadata": {
            "tags": []
          },
          "execution_count": 13
        }
      ]
    },
    {
      "cell_type": "code",
      "metadata": {
        "colab": {
          "base_uri": "https://localhost:8080/"
        },
        "id": "SkwzTbYpPN4G",
        "outputId": "7f0a35fe-4a53-4bc3-cff2-bb236e13feb4"
      },
      "source": [
        "train['Embarked'].value_counts()"
      ],
      "execution_count": 16,
      "outputs": [
        {
          "output_type": "execute_result",
          "data": {
            "text/plain": [
              "S    644\n",
              "C    168\n",
              "Q     77\n",
              "Name: Embarked, dtype: int64"
            ]
          },
          "metadata": {
            "tags": []
          },
          "execution_count": 16
        }
      ]
    },
    {
      "cell_type": "code",
      "metadata": {
        "id": "Y15-RIoASZzI"
      },
      "source": [
        "train['Embarked'] = train['Embarked'].fillna('S')"
      ],
      "execution_count": 18,
      "outputs": []
    },
    {
      "cell_type": "code",
      "metadata": {
        "id": "OqINQk_FS-FO"
      },
      "source": [
        "train['Sex'] = train['Sex'].map({'male':0, 'female':1})\r\n",
        "test['Sex'] = test['Sex'].map({'male':0, 'female':1})"
      ],
      "execution_count": 28,
      "outputs": []
    },
    {
      "cell_type": "code",
      "metadata": {
        "colab": {
          "base_uri": "https://localhost:8080/"
        },
        "id": "1FXofTqSTKOs",
        "outputId": "47ba711d-6265-4358-8812-39946d93edd1"
      },
      "source": [
        "train[\"Sex\"]"
      ],
      "execution_count": 20,
      "outputs": [
        {
          "output_type": "execute_result",
          "data": {
            "text/plain": [
              "0      0\n",
              "1      1\n",
              "2      1\n",
              "3      1\n",
              "4      0\n",
              "      ..\n",
              "886    0\n",
              "887    1\n",
              "888    1\n",
              "889    0\n",
              "890    0\n",
              "Name: Sex, Length: 891, dtype: int64"
            ]
          },
          "metadata": {
            "tags": []
          },
          "execution_count": 20
        }
      ]
    },
    {
      "cell_type": "code",
      "metadata": {
        "colab": {
          "base_uri": "https://localhost:8080/",
          "height": 340
        },
        "id": "K0VAnt3rTQpl",
        "outputId": "3ec2b069-9546-4e0d-9053-2a626c7635cf"
      },
      "source": [
        "train.head()"
      ],
      "execution_count": 21,
      "outputs": [
        {
          "output_type": "execute_result",
          "data": {
            "text/html": [
              "<div>\n",
              "<style scoped>\n",
              "    .dataframe tbody tr th:only-of-type {\n",
              "        vertical-align: middle;\n",
              "    }\n",
              "\n",
              "    .dataframe tbody tr th {\n",
              "        vertical-align: top;\n",
              "    }\n",
              "\n",
              "    .dataframe thead th {\n",
              "        text-align: right;\n",
              "    }\n",
              "</style>\n",
              "<table border=\"1\" class=\"dataframe\">\n",
              "  <thead>\n",
              "    <tr style=\"text-align: right;\">\n",
              "      <th></th>\n",
              "      <th>PassengerId</th>\n",
              "      <th>Survived</th>\n",
              "      <th>Pclass</th>\n",
              "      <th>Name</th>\n",
              "      <th>Sex</th>\n",
              "      <th>Age</th>\n",
              "      <th>SibSp</th>\n",
              "      <th>Parch</th>\n",
              "      <th>Ticket</th>\n",
              "      <th>Fare</th>\n",
              "      <th>Cabin</th>\n",
              "      <th>Embarked</th>\n",
              "    </tr>\n",
              "  </thead>\n",
              "  <tbody>\n",
              "    <tr>\n",
              "      <th>0</th>\n",
              "      <td>1</td>\n",
              "      <td>0</td>\n",
              "      <td>3</td>\n",
              "      <td>Braund, Mr. Owen Harris</td>\n",
              "      <td>0</td>\n",
              "      <td>22.0</td>\n",
              "      <td>1</td>\n",
              "      <td>0</td>\n",
              "      <td>A/5 21171</td>\n",
              "      <td>7.2500</td>\n",
              "      <td>NaN</td>\n",
              "      <td>S</td>\n",
              "    </tr>\n",
              "    <tr>\n",
              "      <th>1</th>\n",
              "      <td>2</td>\n",
              "      <td>1</td>\n",
              "      <td>1</td>\n",
              "      <td>Cumings, Mrs. John Bradley (Florence Briggs Th...</td>\n",
              "      <td>1</td>\n",
              "      <td>38.0</td>\n",
              "      <td>1</td>\n",
              "      <td>0</td>\n",
              "      <td>PC 17599</td>\n",
              "      <td>71.2833</td>\n",
              "      <td>C85</td>\n",
              "      <td>C</td>\n",
              "    </tr>\n",
              "    <tr>\n",
              "      <th>2</th>\n",
              "      <td>3</td>\n",
              "      <td>1</td>\n",
              "      <td>3</td>\n",
              "      <td>Heikkinen, Miss. Laina</td>\n",
              "      <td>1</td>\n",
              "      <td>26.0</td>\n",
              "      <td>0</td>\n",
              "      <td>0</td>\n",
              "      <td>STON/O2. 3101282</td>\n",
              "      <td>7.9250</td>\n",
              "      <td>NaN</td>\n",
              "      <td>S</td>\n",
              "    </tr>\n",
              "    <tr>\n",
              "      <th>3</th>\n",
              "      <td>4</td>\n",
              "      <td>1</td>\n",
              "      <td>1</td>\n",
              "      <td>Futrelle, Mrs. Jacques Heath (Lily May Peel)</td>\n",
              "      <td>1</td>\n",
              "      <td>35.0</td>\n",
              "      <td>1</td>\n",
              "      <td>0</td>\n",
              "      <td>113803</td>\n",
              "      <td>53.1000</td>\n",
              "      <td>C123</td>\n",
              "      <td>S</td>\n",
              "    </tr>\n",
              "    <tr>\n",
              "      <th>4</th>\n",
              "      <td>5</td>\n",
              "      <td>0</td>\n",
              "      <td>3</td>\n",
              "      <td>Allen, Mr. William Henry</td>\n",
              "      <td>0</td>\n",
              "      <td>35.0</td>\n",
              "      <td>0</td>\n",
              "      <td>0</td>\n",
              "      <td>373450</td>\n",
              "      <td>8.0500</td>\n",
              "      <td>NaN</td>\n",
              "      <td>S</td>\n",
              "    </tr>\n",
              "  </tbody>\n",
              "</table>\n",
              "</div>"
            ],
            "text/plain": [
              "   PassengerId  Survived  Pclass  ...     Fare  Cabin  Embarked\n",
              "0            1         0       3  ...   7.2500    NaN         S\n",
              "1            2         1       1  ...  71.2833    C85         C\n",
              "2            3         1       3  ...   7.9250    NaN         S\n",
              "3            4         1       1  ...  53.1000   C123         S\n",
              "4            5         0       3  ...   8.0500    NaN         S\n",
              "\n",
              "[5 rows x 12 columns]"
            ]
          },
          "metadata": {
            "tags": []
          },
          "execution_count": 21
        }
      ]
    },
    {
      "cell_type": "markdown",
      "metadata": {
        "id": "lkk1UhVaT10k"
      },
      "source": [
        "## 모델링\r\n",
        "- 로지스틱 회귀\r\n",
        "sklearn.linear_model.LogisticRegression()\r\n",
        "\r\n",
        "- 의사결정 나무\r\n",
        "sklearn.tree.DecisionTreeClassifier()"
      ]
    },
    {
      "cell_type": "markdown",
      "metadata": {
        "id": "QX9q7VPXUOyc"
      },
      "source": [
        "### 변수 선택\r\n",
        "- 성별, 객실 등급으로 판단해보자"
      ]
    },
    {
      "cell_type": "code",
      "metadata": {
        "id": "tnw1aa53UVZ4"
      },
      "source": [
        "X_train = train[['Sex', 'Pclass']]\r\n",
        "Y_train = train[\"Survived\"]\r\n"
      ],
      "execution_count": 25,
      "outputs": []
    },
    {
      "cell_type": "code",
      "metadata": {
        "id": "x7z4EsgcUwvg"
      },
      "source": [
        "X_test = test[['Sex', 'Pclass']]\r\n"
      ],
      "execution_count": 29,
      "outputs": []
    },
    {
      "cell_type": "markdown",
      "metadata": {
        "id": "3XH_KVmHVKD4"
      },
      "source": [
        "### 모델 선택 및 추론\r\n"
      ]
    },
    {
      "cell_type": "code",
      "metadata": {
        "colab": {
          "base_uri": "https://localhost:8080/"
        },
        "id": "sGWR6jOHVJRo",
        "outputId": "219f64e0-1176-4bb8-aa12-99782fc4af51"
      },
      "source": [
        "from sklearn.linear_model import LogisticRegression\r\n",
        "lr = LogisticRegression()\r\n",
        "lr.fit(X_train, Y_train)"
      ],
      "execution_count": 37,
      "outputs": [
        {
          "output_type": "execute_result",
          "data": {
            "text/plain": [
              "LogisticRegression(C=1.0, class_weight=None, dual=False, fit_intercept=True,\n",
              "                   intercept_scaling=1, l1_ratio=None, max_iter=100,\n",
              "                   multi_class='auto', n_jobs=None, penalty='l2',\n",
              "                   random_state=None, solver='lbfgs', tol=0.0001, verbose=0,\n",
              "                   warm_start=False)"
            ]
          },
          "metadata": {
            "tags": []
          },
          "execution_count": 37
        }
      ]
    },
    {
      "cell_type": "code",
      "metadata": {
        "colab": {
          "base_uri": "https://localhost:8080/"
        },
        "id": "DcC-N5fFWNgO",
        "outputId": "0506f638-b0c5-45a2-db56-0b51c7e7202d"
      },
      "source": [
        "lr.predict(X_test)"
      ],
      "execution_count": 38,
      "outputs": [
        {
          "output_type": "execute_result",
          "data": {
            "text/plain": [
              "array([0, 1, 0, 0, 1, 0, 1, 0, 1, 0, 0, 0, 1, 0, 1, 1, 0, 0, 1, 1, 0, 0,\n",
              "       1, 0, 1, 0, 1, 0, 0, 0, 0, 0, 1, 1, 0, 0, 1, 1, 0, 0, 0, 0, 0, 1,\n",
              "       1, 0, 0, 0, 1, 1, 0, 0, 1, 1, 0, 0, 0, 0, 0, 1, 0, 0, 0, 1, 0, 1,\n",
              "       1, 0, 0, 1, 1, 0, 1, 0, 1, 0, 0, 1, 0, 1, 0, 0, 0, 0, 0, 0, 1, 1,\n",
              "       1, 0, 1, 0, 1, 0, 0, 0, 1, 0, 1, 0, 1, 0, 0, 0, 1, 0, 0, 0, 0, 0,\n",
              "       0, 1, 1, 1, 1, 0, 0, 1, 0, 1, 1, 0, 1, 0, 0, 1, 0, 1, 0, 0, 0, 0,\n",
              "       1, 0, 0, 0, 0, 0, 1, 0, 1, 1, 0, 0, 0, 0, 0, 0, 0, 0, 1, 0, 0, 1,\n",
              "       0, 0, 1, 1, 0, 1, 1, 0, 1, 0, 0, 1, 0, 0, 1, 1, 0, 0, 0, 0, 0, 1,\n",
              "       1, 0, 1, 1, 0, 0, 1, 0, 1, 0, 1, 0, 1, 0, 0, 0, 0, 0, 0, 0, 0, 1,\n",
              "       0, 1, 1, 0, 0, 1, 0, 0, 1, 0, 1, 0, 0, 0, 0, 1, 1, 0, 1, 0, 1, 0,\n",
              "       1, 0, 1, 0, 1, 1, 0, 1, 0, 0, 0, 1, 0, 0, 0, 0, 0, 0, 1, 1, 1, 1,\n",
              "       0, 0, 0, 0, 1, 0, 1, 1, 1, 0, 0, 0, 0, 0, 0, 0, 1, 0, 0, 0, 1, 1,\n",
              "       0, 0, 0, 0, 1, 0, 0, 0, 1, 1, 0, 1, 0, 0, 0, 0, 1, 0, 1, 1, 1, 0,\n",
              "       0, 0, 0, 0, 0, 1, 0, 0, 0, 0, 1, 0, 0, 0, 0, 0, 0, 0, 1, 1, 0, 0,\n",
              "       0, 1, 0, 0, 0, 1, 1, 1, 0, 0, 0, 0, 0, 0, 0, 0, 1, 0, 1, 0, 0, 0,\n",
              "       1, 0, 0, 1, 0, 0, 0, 0, 0, 0, 0, 0, 0, 1, 0, 1, 0, 1, 0, 1, 1, 0,\n",
              "       0, 0, 1, 0, 1, 0, 0, 1, 0, 1, 1, 0, 1, 1, 0, 1, 1, 0, 0, 1, 0, 0,\n",
              "       1, 1, 1, 0, 0, 0, 0, 0, 1, 1, 0, 1, 0, 0, 0, 0, 0, 1, 0, 0, 0, 1,\n",
              "       0, 1, 0, 0, 1, 0, 1, 0, 0, 0, 0, 0, 1, 1, 1, 1, 1, 0, 1, 0, 0, 0])"
            ]
          },
          "metadata": {
            "tags": []
          },
          "execution_count": 38
        }
      ]
    },
    {
      "cell_type": "markdown",
      "metadata": {
        "id": "nN1fTDLqWh77"
      },
      "source": [
        "[사망확률, 생존확률]"
      ]
    },
    {
      "cell_type": "code",
      "metadata": {
        "colab": {
          "base_uri": "https://localhost:8080/"
        },
        "id": "SC83UvCzWOAi",
        "outputId": "efd70332-0410-412d-aec5-4ad9b3666147"
      },
      "source": [
        "lr.predict_proba(X_test)"
      ],
      "execution_count": 39,
      "outputs": [
        {
          "output_type": "execute_result",
          "data": {
            "text/plain": [
              "array([[0.89797923, 0.10202077],\n",
              "       [0.40645631, 0.59354369],\n",
              "       [0.77524063, 0.22475937],\n",
              "       [0.89797923, 0.10202077],\n",
              "       [0.40645631, 0.59354369],\n",
              "       [0.89797923, 0.10202077],\n",
              "       [0.40645631, 0.59354369],\n",
              "       [0.77524063, 0.22475937],\n",
              "       [0.40645631, 0.59354369],\n",
              "       [0.89797923, 0.10202077],\n",
              "       [0.89797923, 0.10202077],\n",
              "       [0.57476411, 0.42523589],\n",
              "       [0.09515218, 0.90484782],\n",
              "       [0.77524063, 0.22475937],\n",
              "       [0.09515218, 0.90484782],\n",
              "       [0.21157431, 0.78842569],\n",
              "       [0.77524063, 0.22475937],\n",
              "       [0.89797923, 0.10202077],\n",
              "       [0.40645631, 0.59354369],\n",
              "       [0.40645631, 0.59354369],\n",
              "       [0.57476411, 0.42523589],\n",
              "       [0.89797923, 0.10202077],\n",
              "       [0.09515218, 0.90484782],\n",
              "       [0.57476411, 0.42523589],\n",
              "       [0.09515218, 0.90484782],\n",
              "       [0.89797923, 0.10202077],\n",
              "       [0.09515218, 0.90484782],\n",
              "       [0.89797923, 0.10202077],\n",
              "       [0.57476411, 0.42523589],\n",
              "       [0.89797923, 0.10202077],\n",
              "       [0.77524063, 0.22475937],\n",
              "       [0.77524063, 0.22475937],\n",
              "       [0.40645631, 0.59354369],\n",
              "       [0.40645631, 0.59354369],\n",
              "       [0.57476411, 0.42523589],\n",
              "       [0.89797923, 0.10202077],\n",
              "       [0.40645631, 0.59354369],\n",
              "       [0.40645631, 0.59354369],\n",
              "       [0.89797923, 0.10202077],\n",
              "       [0.89797923, 0.10202077],\n",
              "       [0.89797923, 0.10202077],\n",
              "       [0.57476411, 0.42523589],\n",
              "       [0.89797923, 0.10202077],\n",
              "       [0.21157431, 0.78842569],\n",
              "       [0.09515218, 0.90484782],\n",
              "       [0.89797923, 0.10202077],\n",
              "       [0.57476411, 0.42523589],\n",
              "       [0.89797923, 0.10202077],\n",
              "       [0.09515218, 0.90484782],\n",
              "       [0.40645631, 0.59354369],\n",
              "       [0.57476411, 0.42523589],\n",
              "       [0.77524063, 0.22475937],\n",
              "       [0.21157431, 0.78842569],\n",
              "       [0.09515218, 0.90484782],\n",
              "       [0.77524063, 0.22475937],\n",
              "       [0.89797923, 0.10202077],\n",
              "       [0.89797923, 0.10202077],\n",
              "       [0.89797923, 0.10202077],\n",
              "       [0.89797923, 0.10202077],\n",
              "       [0.09515218, 0.90484782],\n",
              "       [0.89797923, 0.10202077],\n",
              "       [0.77524063, 0.22475937],\n",
              "       [0.89797923, 0.10202077],\n",
              "       [0.40645631, 0.59354369],\n",
              "       [0.57476411, 0.42523589],\n",
              "       [0.21157431, 0.78842569],\n",
              "       [0.40645631, 0.59354369],\n",
              "       [0.57476411, 0.42523589],\n",
              "       [0.57476411, 0.42523589],\n",
              "       [0.09515218, 0.90484782],\n",
              "       [0.40645631, 0.59354369],\n",
              "       [0.89797923, 0.10202077],\n",
              "       [0.40645631, 0.59354369],\n",
              "       [0.57476411, 0.42523589],\n",
              "       [0.09515218, 0.90484782],\n",
              "       [0.57476411, 0.42523589],\n",
              "       [0.89797923, 0.10202077],\n",
              "       [0.09515218, 0.90484782],\n",
              "       [0.77524063, 0.22475937],\n",
              "       [0.40645631, 0.59354369],\n",
              "       [0.89797923, 0.10202077],\n",
              "       [0.57476411, 0.42523589],\n",
              "       [0.57476411, 0.42523589],\n",
              "       [0.89797923, 0.10202077],\n",
              "       [0.77524063, 0.22475937],\n",
              "       [0.89797923, 0.10202077],\n",
              "       [0.40645631, 0.59354369],\n",
              "       [0.40645631, 0.59354369],\n",
              "       [0.40645631, 0.59354369],\n",
              "       [0.77524063, 0.22475937],\n",
              "       [0.40645631, 0.59354369],\n",
              "       [0.89797923, 0.10202077],\n",
              "       [0.09515218, 0.90484782],\n",
              "       [0.89797923, 0.10202077],\n",
              "       [0.57476411, 0.42523589],\n",
              "       [0.89797923, 0.10202077],\n",
              "       [0.09515218, 0.90484782],\n",
              "       [0.89797923, 0.10202077],\n",
              "       [0.40645631, 0.59354369],\n",
              "       [0.89797923, 0.10202077],\n",
              "       [0.09515218, 0.90484782],\n",
              "       [0.77524063, 0.22475937],\n",
              "       [0.89797923, 0.10202077],\n",
              "       [0.89797923, 0.10202077],\n",
              "       [0.40645631, 0.59354369],\n",
              "       [0.89797923, 0.10202077],\n",
              "       [0.89797923, 0.10202077],\n",
              "       [0.89797923, 0.10202077],\n",
              "       [0.89797923, 0.10202077],\n",
              "       [0.77524063, 0.22475937],\n",
              "       [0.77524063, 0.22475937],\n",
              "       [0.40645631, 0.59354369],\n",
              "       [0.09515218, 0.90484782],\n",
              "       [0.40645631, 0.59354369],\n",
              "       [0.09515218, 0.90484782],\n",
              "       [0.89797923, 0.10202077],\n",
              "       [0.89797923, 0.10202077],\n",
              "       [0.40645631, 0.59354369],\n",
              "       [0.57476411, 0.42523589],\n",
              "       [0.21157431, 0.78842569],\n",
              "       [0.21157431, 0.78842569],\n",
              "       [0.89797923, 0.10202077],\n",
              "       [0.09515218, 0.90484782],\n",
              "       [0.89797923, 0.10202077],\n",
              "       [0.89797923, 0.10202077],\n",
              "       [0.40645631, 0.59354369],\n",
              "       [0.89797923, 0.10202077],\n",
              "       [0.40645631, 0.59354369],\n",
              "       [0.77524063, 0.22475937],\n",
              "       [0.89797923, 0.10202077],\n",
              "       [0.89797923, 0.10202077],\n",
              "       [0.57476411, 0.42523589],\n",
              "       [0.40645631, 0.59354369],\n",
              "       [0.89797923, 0.10202077],\n",
              "       [0.89797923, 0.10202077],\n",
              "       [0.89797923, 0.10202077],\n",
              "       [0.89797923, 0.10202077],\n",
              "       [0.77524063, 0.22475937],\n",
              "       [0.40645631, 0.59354369],\n",
              "       [0.89797923, 0.10202077],\n",
              "       [0.40645631, 0.59354369],\n",
              "       [0.09515218, 0.90484782],\n",
              "       [0.57476411, 0.42523589],\n",
              "       [0.77524063, 0.22475937],\n",
              "       [0.57476411, 0.42523589],\n",
              "       [0.89797923, 0.10202077],\n",
              "       [0.57476411, 0.42523589],\n",
              "       [0.89797923, 0.10202077],\n",
              "       [0.57476411, 0.42523589],\n",
              "       [0.77524063, 0.22475937],\n",
              "       [0.09515218, 0.90484782],\n",
              "       [0.89797923, 0.10202077],\n",
              "       [0.89797923, 0.10202077],\n",
              "       [0.40645631, 0.59354369],\n",
              "       [0.89797923, 0.10202077],\n",
              "       [0.89797923, 0.10202077],\n",
              "       [0.09515218, 0.90484782],\n",
              "       [0.40645631, 0.59354369],\n",
              "       [0.57476411, 0.42523589],\n",
              "       [0.40645631, 0.59354369],\n",
              "       [0.40645631, 0.59354369],\n",
              "       [0.89797923, 0.10202077],\n",
              "       [0.21157431, 0.78842569],\n",
              "       [0.89797923, 0.10202077],\n",
              "       [0.77524063, 0.22475937],\n",
              "       [0.40645631, 0.59354369],\n",
              "       [0.57476411, 0.42523589],\n",
              "       [0.89797923, 0.10202077],\n",
              "       [0.09515218, 0.90484782],\n",
              "       [0.40645631, 0.59354369],\n",
              "       [0.89797923, 0.10202077],\n",
              "       [0.89797923, 0.10202077],\n",
              "       [0.89797923, 0.10202077],\n",
              "       [0.89797923, 0.10202077],\n",
              "       [0.89797923, 0.10202077],\n",
              "       [0.21157431, 0.78842569],\n",
              "       [0.21157431, 0.78842569],\n",
              "       [0.57476411, 0.42523589],\n",
              "       [0.21157431, 0.78842569],\n",
              "       [0.09515218, 0.90484782],\n",
              "       [0.77524063, 0.22475937],\n",
              "       [0.57476411, 0.42523589],\n",
              "       [0.09515218, 0.90484782],\n",
              "       [0.89797923, 0.10202077],\n",
              "       [0.09515218, 0.90484782],\n",
              "       [0.77524063, 0.22475937],\n",
              "       [0.21157431, 0.78842569],\n",
              "       [0.89797923, 0.10202077],\n",
              "       [0.40645631, 0.59354369],\n",
              "       [0.77524063, 0.22475937],\n",
              "       [0.77524063, 0.22475937],\n",
              "       [0.57476411, 0.42523589],\n",
              "       [0.89797923, 0.10202077],\n",
              "       [0.77524063, 0.22475937],\n",
              "       [0.77524063, 0.22475937],\n",
              "       [0.89797923, 0.10202077],\n",
              "       [0.57476411, 0.42523589],\n",
              "       [0.40645631, 0.59354369],\n",
              "       [0.77524063, 0.22475937],\n",
              "       [0.40645631, 0.59354369],\n",
              "       [0.40645631, 0.59354369],\n",
              "       [0.89797923, 0.10202077],\n",
              "       [0.57476411, 0.42523589],\n",
              "       [0.21157431, 0.78842569],\n",
              "       [0.77524063, 0.22475937],\n",
              "       [0.57476411, 0.42523589],\n",
              "       [0.40645631, 0.59354369],\n",
              "       [0.77524063, 0.22475937],\n",
              "       [0.09515218, 0.90484782],\n",
              "       [0.89797923, 0.10202077],\n",
              "       [0.89797923, 0.10202077],\n",
              "       [0.89797923, 0.10202077],\n",
              "       [0.77524063, 0.22475937],\n",
              "       [0.21157431, 0.78842569],\n",
              "       [0.40645631, 0.59354369],\n",
              "       [0.57476411, 0.42523589],\n",
              "       [0.40645631, 0.59354369],\n",
              "       [0.57476411, 0.42523589],\n",
              "       [0.09515218, 0.90484782],\n",
              "       [0.89797923, 0.10202077],\n",
              "       [0.21157431, 0.78842569],\n",
              "       [0.89797923, 0.10202077],\n",
              "       [0.21157431, 0.78842569],\n",
              "       [0.89797923, 0.10202077],\n",
              "       [0.09515218, 0.90484782],\n",
              "       [0.40645631, 0.59354369],\n",
              "       [0.89797923, 0.10202077],\n",
              "       [0.40645631, 0.59354369],\n",
              "       [0.89797923, 0.10202077],\n",
              "       [0.77524063, 0.22475937],\n",
              "       [0.77524063, 0.22475937],\n",
              "       [0.09515218, 0.90484782],\n",
              "       [0.89797923, 0.10202077],\n",
              "       [0.89797923, 0.10202077],\n",
              "       [0.57476411, 0.42523589],\n",
              "       [0.89797923, 0.10202077],\n",
              "       [0.57476411, 0.42523589],\n",
              "       [0.89797923, 0.10202077],\n",
              "       [0.21157431, 0.78842569],\n",
              "       [0.09515218, 0.90484782],\n",
              "       [0.09515218, 0.90484782],\n",
              "       [0.21157431, 0.78842569],\n",
              "       [0.57476411, 0.42523589],\n",
              "       [0.89797923, 0.10202077],\n",
              "       [0.89797923, 0.10202077],\n",
              "       [0.57476411, 0.42523589],\n",
              "       [0.21157431, 0.78842569],\n",
              "       [0.77524063, 0.22475937],\n",
              "       [0.21157431, 0.78842569],\n",
              "       [0.40645631, 0.59354369],\n",
              "       [0.21157431, 0.78842569],\n",
              "       [0.89797923, 0.10202077],\n",
              "       [0.57476411, 0.42523589],\n",
              "       [0.89797923, 0.10202077],\n",
              "       [0.89797923, 0.10202077],\n",
              "       [0.89797923, 0.10202077],\n",
              "       [0.89797923, 0.10202077],\n",
              "       [0.89797923, 0.10202077],\n",
              "       [0.21157431, 0.78842569],\n",
              "       [0.89797923, 0.10202077],\n",
              "       [0.89797923, 0.10202077],\n",
              "       [0.89797923, 0.10202077],\n",
              "       [0.21157431, 0.78842569],\n",
              "       [0.40645631, 0.59354369],\n",
              "       [0.77524063, 0.22475937],\n",
              "       [0.89797923, 0.10202077],\n",
              "       [0.57476411, 0.42523589],\n",
              "       [0.89797923, 0.10202077],\n",
              "       [0.40645631, 0.59354369],\n",
              "       [0.89797923, 0.10202077],\n",
              "       [0.57476411, 0.42523589],\n",
              "       [0.89797923, 0.10202077],\n",
              "       [0.09515218, 0.90484782],\n",
              "       [0.40645631, 0.59354369],\n",
              "       [0.89797923, 0.10202077],\n",
              "       [0.21157431, 0.78842569],\n",
              "       [0.77524063, 0.22475937],\n",
              "       [0.77524063, 0.22475937],\n",
              "       [0.77524063, 0.22475937],\n",
              "       [0.77524063, 0.22475937],\n",
              "       [0.40645631, 0.59354369],\n",
              "       [0.89797923, 0.10202077],\n",
              "       [0.40645631, 0.59354369],\n",
              "       [0.40645631, 0.59354369],\n",
              "       [0.40645631, 0.59354369],\n",
              "       [0.89797923, 0.10202077],\n",
              "       [0.89797923, 0.10202077],\n",
              "       [0.57476411, 0.42523589],\n",
              "       [0.89797923, 0.10202077],\n",
              "       [0.89797923, 0.10202077],\n",
              "       [0.57476411, 0.42523589],\n",
              "       [0.40645631, 0.59354369],\n",
              "       [0.89797923, 0.10202077],\n",
              "       [0.57476411, 0.42523589],\n",
              "       [0.89797923, 0.10202077],\n",
              "       [0.89797923, 0.10202077],\n",
              "       [0.21157431, 0.78842569],\n",
              "       [0.89797923, 0.10202077],\n",
              "       [0.57476411, 0.42523589],\n",
              "       [0.89797923, 0.10202077],\n",
              "       [0.89797923, 0.10202077],\n",
              "       [0.77524063, 0.22475937],\n",
              "       [0.77524063, 0.22475937],\n",
              "       [0.89797923, 0.10202077],\n",
              "       [0.40645631, 0.59354369],\n",
              "       [0.09515218, 0.90484782],\n",
              "       [0.57476411, 0.42523589],\n",
              "       [0.89797923, 0.10202077],\n",
              "       [0.57476411, 0.42523589],\n",
              "       [0.40645631, 0.59354369],\n",
              "       [0.89797923, 0.10202077],\n",
              "       [0.89797923, 0.10202077],\n",
              "       [0.89797923, 0.10202077],\n",
              "       [0.40645631, 0.59354369],\n",
              "       [0.09515218, 0.90484782],\n",
              "       [0.40645631, 0.59354369],\n",
              "       [0.57476411, 0.42523589],\n",
              "       [0.77524063, 0.22475937],\n",
              "       [0.89797923, 0.10202077],\n",
              "       [0.77524063, 0.22475937],\n",
              "       [0.89797923, 0.10202077],\n",
              "       [0.89797923, 0.10202077],\n",
              "       [0.77524063, 0.22475937],\n",
              "       [0.57476411, 0.42523589],\n",
              "       [0.09515218, 0.90484782],\n",
              "       [0.89797923, 0.10202077],\n",
              "       [0.21157431, 0.78842569],\n",
              "       [0.57476411, 0.42523589],\n",
              "       [0.77524063, 0.22475937],\n",
              "       [0.77524063, 0.22475937],\n",
              "       [0.21157431, 0.78842569],\n",
              "       [0.57476411, 0.42523589],\n",
              "       [0.89797923, 0.10202077],\n",
              "       [0.40645631, 0.59354369],\n",
              "       [0.89797923, 0.10202077],\n",
              "       [0.57476411, 0.42523589],\n",
              "       [0.77524063, 0.22475937],\n",
              "       [0.89797923, 0.10202077],\n",
              "       [0.77524063, 0.22475937],\n",
              "       [0.89797923, 0.10202077],\n",
              "       [0.77524063, 0.22475937],\n",
              "       [0.89797923, 0.10202077],\n",
              "       [0.89797923, 0.10202077],\n",
              "       [0.09515218, 0.90484782],\n",
              "       [0.89797923, 0.10202077],\n",
              "       [0.40645631, 0.59354369],\n",
              "       [0.77524063, 0.22475937],\n",
              "       [0.40645631, 0.59354369],\n",
              "       [0.77524063, 0.22475937],\n",
              "       [0.21157431, 0.78842569],\n",
              "       [0.09515218, 0.90484782],\n",
              "       [0.77524063, 0.22475937],\n",
              "       [0.77524063, 0.22475937],\n",
              "       [0.77524063, 0.22475937],\n",
              "       [0.40645631, 0.59354369],\n",
              "       [0.57476411, 0.42523589],\n",
              "       [0.09515218, 0.90484782],\n",
              "       [0.89797923, 0.10202077],\n",
              "       [0.89797923, 0.10202077],\n",
              "       [0.40645631, 0.59354369],\n",
              "       [0.89797923, 0.10202077],\n",
              "       [0.21157431, 0.78842569],\n",
              "       [0.21157431, 0.78842569],\n",
              "       [0.89797923, 0.10202077],\n",
              "       [0.09515218, 0.90484782],\n",
              "       [0.40645631, 0.59354369],\n",
              "       [0.89797923, 0.10202077],\n",
              "       [0.40645631, 0.59354369],\n",
              "       [0.09515218, 0.90484782],\n",
              "       [0.77524063, 0.22475937],\n",
              "       [0.77524063, 0.22475937],\n",
              "       [0.09515218, 0.90484782],\n",
              "       [0.57476411, 0.42523589],\n",
              "       [0.77524063, 0.22475937],\n",
              "       [0.09515218, 0.90484782],\n",
              "       [0.09515218, 0.90484782],\n",
              "       [0.40645631, 0.59354369],\n",
              "       [0.77524063, 0.22475937],\n",
              "       [0.57476411, 0.42523589],\n",
              "       [0.89797923, 0.10202077],\n",
              "       [0.89797923, 0.10202077],\n",
              "       [0.89797923, 0.10202077],\n",
              "       [0.40645631, 0.59354369],\n",
              "       [0.40645631, 0.59354369],\n",
              "       [0.77524063, 0.22475937],\n",
              "       [0.21157431, 0.78842569],\n",
              "       [0.89797923, 0.10202077],\n",
              "       [0.77524063, 0.22475937],\n",
              "       [0.89797923, 0.10202077],\n",
              "       [0.89797923, 0.10202077],\n",
              "       [0.57476411, 0.42523589],\n",
              "       [0.09515218, 0.90484782],\n",
              "       [0.89797923, 0.10202077],\n",
              "       [0.77524063, 0.22475937],\n",
              "       [0.89797923, 0.10202077],\n",
              "       [0.09515218, 0.90484782],\n",
              "       [0.89797923, 0.10202077],\n",
              "       [0.09515218, 0.90484782],\n",
              "       [0.89797923, 0.10202077],\n",
              "       [0.89797923, 0.10202077],\n",
              "       [0.09515218, 0.90484782],\n",
              "       [0.77524063, 0.22475937],\n",
              "       [0.09515218, 0.90484782],\n",
              "       [0.57476411, 0.42523589],\n",
              "       [0.57476411, 0.42523589],\n",
              "       [0.77524063, 0.22475937],\n",
              "       [0.77524063, 0.22475937],\n",
              "       [0.57476411, 0.42523589],\n",
              "       [0.40645631, 0.59354369],\n",
              "       [0.40645631, 0.59354369],\n",
              "       [0.40645631, 0.59354369],\n",
              "       [0.09515218, 0.90484782],\n",
              "       [0.40645631, 0.59354369],\n",
              "       [0.89797923, 0.10202077],\n",
              "       [0.09515218, 0.90484782],\n",
              "       [0.89797923, 0.10202077],\n",
              "       [0.89797923, 0.10202077],\n",
              "       [0.89797923, 0.10202077]])"
            ]
          },
          "metadata": {
            "tags": []
          },
          "execution_count": 39
        }
      ]
    },
    {
      "cell_type": "code",
      "metadata": {
        "colab": {
          "base_uri": "https://localhost:8080/"
        },
        "id": "Yn_rhSpRWXgd",
        "outputId": "886b2317-bf3f-4e39-8202-7a61abcff6d5"
      },
      "source": [
        "lr.predict_proba(X_test).shape"
      ],
      "execution_count": 43,
      "outputs": [
        {
          "output_type": "execute_result",
          "data": {
            "text/plain": [
              "(418, 2)"
            ]
          },
          "metadata": {
            "tags": []
          },
          "execution_count": 43
        }
      ]
    },
    {
      "cell_type": "code",
      "metadata": {
        "colab": {
          "base_uri": "https://localhost:8080/"
        },
        "id": "6PaQgwKrXGbU",
        "outputId": "9b9efd7c-bc3d-497c-970b-fce1ebcba7d5"
      },
      "source": [
        "lr.predict_proba(X_test)[:,1]"
      ],
      "execution_count": 45,
      "outputs": [
        {
          "output_type": "execute_result",
          "data": {
            "text/plain": [
              "array([0.10202077, 0.59354369, 0.22475937, 0.10202077, 0.59354369,\n",
              "       0.10202077, 0.59354369, 0.22475937, 0.59354369, 0.10202077,\n",
              "       0.10202077, 0.42523589, 0.90484782, 0.22475937, 0.90484782,\n",
              "       0.78842569, 0.22475937, 0.10202077, 0.59354369, 0.59354369,\n",
              "       0.42523589, 0.10202077, 0.90484782, 0.42523589, 0.90484782,\n",
              "       0.10202077, 0.90484782, 0.10202077, 0.42523589, 0.10202077,\n",
              "       0.22475937, 0.22475937, 0.59354369, 0.59354369, 0.42523589,\n",
              "       0.10202077, 0.59354369, 0.59354369, 0.10202077, 0.10202077,\n",
              "       0.10202077, 0.42523589, 0.10202077, 0.78842569, 0.90484782,\n",
              "       0.10202077, 0.42523589, 0.10202077, 0.90484782, 0.59354369,\n",
              "       0.42523589, 0.22475937, 0.78842569, 0.90484782, 0.22475937,\n",
              "       0.10202077, 0.10202077, 0.10202077, 0.10202077, 0.90484782,\n",
              "       0.10202077, 0.22475937, 0.10202077, 0.59354369, 0.42523589,\n",
              "       0.78842569, 0.59354369, 0.42523589, 0.42523589, 0.90484782,\n",
              "       0.59354369, 0.10202077, 0.59354369, 0.42523589, 0.90484782,\n",
              "       0.42523589, 0.10202077, 0.90484782, 0.22475937, 0.59354369,\n",
              "       0.10202077, 0.42523589, 0.42523589, 0.10202077, 0.22475937,\n",
              "       0.10202077, 0.59354369, 0.59354369, 0.59354369, 0.22475937,\n",
              "       0.59354369, 0.10202077, 0.90484782, 0.10202077, 0.42523589,\n",
              "       0.10202077, 0.90484782, 0.10202077, 0.59354369, 0.10202077,\n",
              "       0.90484782, 0.22475937, 0.10202077, 0.10202077, 0.59354369,\n",
              "       0.10202077, 0.10202077, 0.10202077, 0.10202077, 0.22475937,\n",
              "       0.22475937, 0.59354369, 0.90484782, 0.59354369, 0.90484782,\n",
              "       0.10202077, 0.10202077, 0.59354369, 0.42523589, 0.78842569,\n",
              "       0.78842569, 0.10202077, 0.90484782, 0.10202077, 0.10202077,\n",
              "       0.59354369, 0.10202077, 0.59354369, 0.22475937, 0.10202077,\n",
              "       0.10202077, 0.42523589, 0.59354369, 0.10202077, 0.10202077,\n",
              "       0.10202077, 0.10202077, 0.22475937, 0.59354369, 0.10202077,\n",
              "       0.59354369, 0.90484782, 0.42523589, 0.22475937, 0.42523589,\n",
              "       0.10202077, 0.42523589, 0.10202077, 0.42523589, 0.22475937,\n",
              "       0.90484782, 0.10202077, 0.10202077, 0.59354369, 0.10202077,\n",
              "       0.10202077, 0.90484782, 0.59354369, 0.42523589, 0.59354369,\n",
              "       0.59354369, 0.10202077, 0.78842569, 0.10202077, 0.22475937,\n",
              "       0.59354369, 0.42523589, 0.10202077, 0.90484782, 0.59354369,\n",
              "       0.10202077, 0.10202077, 0.10202077, 0.10202077, 0.10202077,\n",
              "       0.78842569, 0.78842569, 0.42523589, 0.78842569, 0.90484782,\n",
              "       0.22475937, 0.42523589, 0.90484782, 0.10202077, 0.90484782,\n",
              "       0.22475937, 0.78842569, 0.10202077, 0.59354369, 0.22475937,\n",
              "       0.22475937, 0.42523589, 0.10202077, 0.22475937, 0.22475937,\n",
              "       0.10202077, 0.42523589, 0.59354369, 0.22475937, 0.59354369,\n",
              "       0.59354369, 0.10202077, 0.42523589, 0.78842569, 0.22475937,\n",
              "       0.42523589, 0.59354369, 0.22475937, 0.90484782, 0.10202077,\n",
              "       0.10202077, 0.10202077, 0.22475937, 0.78842569, 0.59354369,\n",
              "       0.42523589, 0.59354369, 0.42523589, 0.90484782, 0.10202077,\n",
              "       0.78842569, 0.10202077, 0.78842569, 0.10202077, 0.90484782,\n",
              "       0.59354369, 0.10202077, 0.59354369, 0.10202077, 0.22475937,\n",
              "       0.22475937, 0.90484782, 0.10202077, 0.10202077, 0.42523589,\n",
              "       0.10202077, 0.42523589, 0.10202077, 0.78842569, 0.90484782,\n",
              "       0.90484782, 0.78842569, 0.42523589, 0.10202077, 0.10202077,\n",
              "       0.42523589, 0.78842569, 0.22475937, 0.78842569, 0.59354369,\n",
              "       0.78842569, 0.10202077, 0.42523589, 0.10202077, 0.10202077,\n",
              "       0.10202077, 0.10202077, 0.10202077, 0.78842569, 0.10202077,\n",
              "       0.10202077, 0.10202077, 0.78842569, 0.59354369, 0.22475937,\n",
              "       0.10202077, 0.42523589, 0.10202077, 0.59354369, 0.10202077,\n",
              "       0.42523589, 0.10202077, 0.90484782, 0.59354369, 0.10202077,\n",
              "       0.78842569, 0.22475937, 0.22475937, 0.22475937, 0.22475937,\n",
              "       0.59354369, 0.10202077, 0.59354369, 0.59354369, 0.59354369,\n",
              "       0.10202077, 0.10202077, 0.42523589, 0.10202077, 0.10202077,\n",
              "       0.42523589, 0.59354369, 0.10202077, 0.42523589, 0.10202077,\n",
              "       0.10202077, 0.78842569, 0.10202077, 0.42523589, 0.10202077,\n",
              "       0.10202077, 0.22475937, 0.22475937, 0.10202077, 0.59354369,\n",
              "       0.90484782, 0.42523589, 0.10202077, 0.42523589, 0.59354369,\n",
              "       0.10202077, 0.10202077, 0.10202077, 0.59354369, 0.90484782,\n",
              "       0.59354369, 0.42523589, 0.22475937, 0.10202077, 0.22475937,\n",
              "       0.10202077, 0.10202077, 0.22475937, 0.42523589, 0.90484782,\n",
              "       0.10202077, 0.78842569, 0.42523589, 0.22475937, 0.22475937,\n",
              "       0.78842569, 0.42523589, 0.10202077, 0.59354369, 0.10202077,\n",
              "       0.42523589, 0.22475937, 0.10202077, 0.22475937, 0.10202077,\n",
              "       0.22475937, 0.10202077, 0.10202077, 0.90484782, 0.10202077,\n",
              "       0.59354369, 0.22475937, 0.59354369, 0.22475937, 0.78842569,\n",
              "       0.90484782, 0.22475937, 0.22475937, 0.22475937, 0.59354369,\n",
              "       0.42523589, 0.90484782, 0.10202077, 0.10202077, 0.59354369,\n",
              "       0.10202077, 0.78842569, 0.78842569, 0.10202077, 0.90484782,\n",
              "       0.59354369, 0.10202077, 0.59354369, 0.90484782, 0.22475937,\n",
              "       0.22475937, 0.90484782, 0.42523589, 0.22475937, 0.90484782,\n",
              "       0.90484782, 0.59354369, 0.22475937, 0.42523589, 0.10202077,\n",
              "       0.10202077, 0.10202077, 0.59354369, 0.59354369, 0.22475937,\n",
              "       0.78842569, 0.10202077, 0.22475937, 0.10202077, 0.10202077,\n",
              "       0.42523589, 0.90484782, 0.10202077, 0.22475937, 0.10202077,\n",
              "       0.90484782, 0.10202077, 0.90484782, 0.10202077, 0.10202077,\n",
              "       0.90484782, 0.22475937, 0.90484782, 0.42523589, 0.42523589,\n",
              "       0.22475937, 0.22475937, 0.42523589, 0.59354369, 0.59354369,\n",
              "       0.59354369, 0.90484782, 0.59354369, 0.10202077, 0.90484782,\n",
              "       0.10202077, 0.10202077, 0.10202077])"
            ]
          },
          "metadata": {
            "tags": []
          },
          "execution_count": 45
        }
      ]
    },
    {
      "cell_type": "code",
      "metadata": {
        "colab": {
          "base_uri": "https://localhost:8080/"
        },
        "id": "BMK8FNPSVklu",
        "outputId": "e5fe8f54-7649-463a-b90a-66c9f2ab5c30"
      },
      "source": [
        "from sklearn.tree import DecisionTreeClassifier\r\n",
        "dt = DecisionTreeClassifier()\r\n",
        "dt.fit(X_train, Y_train)"
      ],
      "execution_count": 35,
      "outputs": [
        {
          "output_type": "execute_result",
          "data": {
            "text/plain": [
              "DecisionTreeClassifier(ccp_alpha=0.0, class_weight=None, criterion='gini',\n",
              "                       max_depth=None, max_features=None, max_leaf_nodes=None,\n",
              "                       min_impurity_decrease=0.0, min_impurity_split=None,\n",
              "                       min_samples_leaf=1, min_samples_split=2,\n",
              "                       min_weight_fraction_leaf=0.0, presort='deprecated',\n",
              "                       random_state=None, splitter='best')"
            ]
          },
          "metadata": {
            "tags": []
          },
          "execution_count": 35
        }
      ]
    },
    {
      "cell_type": "code",
      "metadata": {
        "colab": {
          "base_uri": "https://localhost:8080/"
        },
        "id": "2liJCpACVnuJ",
        "outputId": "c6f87b4a-6de6-4af4-bd60-d5cd7df89456"
      },
      "source": [
        "dt.predict_proba(X_test)"
      ],
      "execution_count": 44,
      "outputs": [
        {
          "output_type": "execute_result",
          "data": {
            "text/plain": [
              "array([[0.86455331, 0.13544669],\n",
              "       [0.5       , 0.5       ],\n",
              "       [0.84259259, 0.15740741],\n",
              "       [0.86455331, 0.13544669],\n",
              "       [0.5       , 0.5       ],\n",
              "       [0.86455331, 0.13544669],\n",
              "       [0.5       , 0.5       ],\n",
              "       [0.84259259, 0.15740741],\n",
              "       [0.5       , 0.5       ],\n",
              "       [0.86455331, 0.13544669],\n",
              "       [0.86455331, 0.13544669],\n",
              "       [0.63114754, 0.36885246],\n",
              "       [0.03191489, 0.96808511],\n",
              "       [0.84259259, 0.15740741],\n",
              "       [0.03191489, 0.96808511],\n",
              "       [0.07894737, 0.92105263],\n",
              "       [0.84259259, 0.15740741],\n",
              "       [0.86455331, 0.13544669],\n",
              "       [0.5       , 0.5       ],\n",
              "       [0.5       , 0.5       ],\n",
              "       [0.63114754, 0.36885246],\n",
              "       [0.86455331, 0.13544669],\n",
              "       [0.03191489, 0.96808511],\n",
              "       [0.63114754, 0.36885246],\n",
              "       [0.03191489, 0.96808511],\n",
              "       [0.86455331, 0.13544669],\n",
              "       [0.03191489, 0.96808511],\n",
              "       [0.86455331, 0.13544669],\n",
              "       [0.63114754, 0.36885246],\n",
              "       [0.86455331, 0.13544669],\n",
              "       [0.84259259, 0.15740741],\n",
              "       [0.84259259, 0.15740741],\n",
              "       [0.5       , 0.5       ],\n",
              "       [0.5       , 0.5       ],\n",
              "       [0.63114754, 0.36885246],\n",
              "       [0.86455331, 0.13544669],\n",
              "       [0.5       , 0.5       ],\n",
              "       [0.5       , 0.5       ],\n",
              "       [0.86455331, 0.13544669],\n",
              "       [0.86455331, 0.13544669],\n",
              "       [0.86455331, 0.13544669],\n",
              "       [0.63114754, 0.36885246],\n",
              "       [0.86455331, 0.13544669],\n",
              "       [0.07894737, 0.92105263],\n",
              "       [0.03191489, 0.96808511],\n",
              "       [0.86455331, 0.13544669],\n",
              "       [0.63114754, 0.36885246],\n",
              "       [0.86455331, 0.13544669],\n",
              "       [0.03191489, 0.96808511],\n",
              "       [0.5       , 0.5       ],\n",
              "       [0.63114754, 0.36885246],\n",
              "       [0.84259259, 0.15740741],\n",
              "       [0.07894737, 0.92105263],\n",
              "       [0.03191489, 0.96808511],\n",
              "       [0.84259259, 0.15740741],\n",
              "       [0.86455331, 0.13544669],\n",
              "       [0.86455331, 0.13544669],\n",
              "       [0.86455331, 0.13544669],\n",
              "       [0.86455331, 0.13544669],\n",
              "       [0.03191489, 0.96808511],\n",
              "       [0.86455331, 0.13544669],\n",
              "       [0.84259259, 0.15740741],\n",
              "       [0.86455331, 0.13544669],\n",
              "       [0.5       , 0.5       ],\n",
              "       [0.63114754, 0.36885246],\n",
              "       [0.07894737, 0.92105263],\n",
              "       [0.5       , 0.5       ],\n",
              "       [0.63114754, 0.36885246],\n",
              "       [0.63114754, 0.36885246],\n",
              "       [0.03191489, 0.96808511],\n",
              "       [0.5       , 0.5       ],\n",
              "       [0.86455331, 0.13544669],\n",
              "       [0.5       , 0.5       ],\n",
              "       [0.63114754, 0.36885246],\n",
              "       [0.03191489, 0.96808511],\n",
              "       [0.63114754, 0.36885246],\n",
              "       [0.86455331, 0.13544669],\n",
              "       [0.03191489, 0.96808511],\n",
              "       [0.84259259, 0.15740741],\n",
              "       [0.5       , 0.5       ],\n",
              "       [0.86455331, 0.13544669],\n",
              "       [0.63114754, 0.36885246],\n",
              "       [0.63114754, 0.36885246],\n",
              "       [0.86455331, 0.13544669],\n",
              "       [0.84259259, 0.15740741],\n",
              "       [0.86455331, 0.13544669],\n",
              "       [0.5       , 0.5       ],\n",
              "       [0.5       , 0.5       ],\n",
              "       [0.5       , 0.5       ],\n",
              "       [0.84259259, 0.15740741],\n",
              "       [0.5       , 0.5       ],\n",
              "       [0.86455331, 0.13544669],\n",
              "       [0.03191489, 0.96808511],\n",
              "       [0.86455331, 0.13544669],\n",
              "       [0.63114754, 0.36885246],\n",
              "       [0.86455331, 0.13544669],\n",
              "       [0.03191489, 0.96808511],\n",
              "       [0.86455331, 0.13544669],\n",
              "       [0.5       , 0.5       ],\n",
              "       [0.86455331, 0.13544669],\n",
              "       [0.03191489, 0.96808511],\n",
              "       [0.84259259, 0.15740741],\n",
              "       [0.86455331, 0.13544669],\n",
              "       [0.86455331, 0.13544669],\n",
              "       [0.5       , 0.5       ],\n",
              "       [0.86455331, 0.13544669],\n",
              "       [0.86455331, 0.13544669],\n",
              "       [0.86455331, 0.13544669],\n",
              "       [0.86455331, 0.13544669],\n",
              "       [0.84259259, 0.15740741],\n",
              "       [0.84259259, 0.15740741],\n",
              "       [0.5       , 0.5       ],\n",
              "       [0.03191489, 0.96808511],\n",
              "       [0.5       , 0.5       ],\n",
              "       [0.03191489, 0.96808511],\n",
              "       [0.86455331, 0.13544669],\n",
              "       [0.86455331, 0.13544669],\n",
              "       [0.5       , 0.5       ],\n",
              "       [0.63114754, 0.36885246],\n",
              "       [0.07894737, 0.92105263],\n",
              "       [0.07894737, 0.92105263],\n",
              "       [0.86455331, 0.13544669],\n",
              "       [0.03191489, 0.96808511],\n",
              "       [0.86455331, 0.13544669],\n",
              "       [0.86455331, 0.13544669],\n",
              "       [0.5       , 0.5       ],\n",
              "       [0.86455331, 0.13544669],\n",
              "       [0.5       , 0.5       ],\n",
              "       [0.84259259, 0.15740741],\n",
              "       [0.86455331, 0.13544669],\n",
              "       [0.86455331, 0.13544669],\n",
              "       [0.63114754, 0.36885246],\n",
              "       [0.5       , 0.5       ],\n",
              "       [0.86455331, 0.13544669],\n",
              "       [0.86455331, 0.13544669],\n",
              "       [0.86455331, 0.13544669],\n",
              "       [0.86455331, 0.13544669],\n",
              "       [0.84259259, 0.15740741],\n",
              "       [0.5       , 0.5       ],\n",
              "       [0.86455331, 0.13544669],\n",
              "       [0.5       , 0.5       ],\n",
              "       [0.03191489, 0.96808511],\n",
              "       [0.63114754, 0.36885246],\n",
              "       [0.84259259, 0.15740741],\n",
              "       [0.63114754, 0.36885246],\n",
              "       [0.86455331, 0.13544669],\n",
              "       [0.63114754, 0.36885246],\n",
              "       [0.86455331, 0.13544669],\n",
              "       [0.63114754, 0.36885246],\n",
              "       [0.84259259, 0.15740741],\n",
              "       [0.03191489, 0.96808511],\n",
              "       [0.86455331, 0.13544669],\n",
              "       [0.86455331, 0.13544669],\n",
              "       [0.5       , 0.5       ],\n",
              "       [0.86455331, 0.13544669],\n",
              "       [0.86455331, 0.13544669],\n",
              "       [0.03191489, 0.96808511],\n",
              "       [0.5       , 0.5       ],\n",
              "       [0.63114754, 0.36885246],\n",
              "       [0.5       , 0.5       ],\n",
              "       [0.5       , 0.5       ],\n",
              "       [0.86455331, 0.13544669],\n",
              "       [0.07894737, 0.92105263],\n",
              "       [0.86455331, 0.13544669],\n",
              "       [0.84259259, 0.15740741],\n",
              "       [0.5       , 0.5       ],\n",
              "       [0.63114754, 0.36885246],\n",
              "       [0.86455331, 0.13544669],\n",
              "       [0.03191489, 0.96808511],\n",
              "       [0.5       , 0.5       ],\n",
              "       [0.86455331, 0.13544669],\n",
              "       [0.86455331, 0.13544669],\n",
              "       [0.86455331, 0.13544669],\n",
              "       [0.86455331, 0.13544669],\n",
              "       [0.86455331, 0.13544669],\n",
              "       [0.07894737, 0.92105263],\n",
              "       [0.07894737, 0.92105263],\n",
              "       [0.63114754, 0.36885246],\n",
              "       [0.07894737, 0.92105263],\n",
              "       [0.03191489, 0.96808511],\n",
              "       [0.84259259, 0.15740741],\n",
              "       [0.63114754, 0.36885246],\n",
              "       [0.03191489, 0.96808511],\n",
              "       [0.86455331, 0.13544669],\n",
              "       [0.03191489, 0.96808511],\n",
              "       [0.84259259, 0.15740741],\n",
              "       [0.07894737, 0.92105263],\n",
              "       [0.86455331, 0.13544669],\n",
              "       [0.5       , 0.5       ],\n",
              "       [0.84259259, 0.15740741],\n",
              "       [0.84259259, 0.15740741],\n",
              "       [0.63114754, 0.36885246],\n",
              "       [0.86455331, 0.13544669],\n",
              "       [0.84259259, 0.15740741],\n",
              "       [0.84259259, 0.15740741],\n",
              "       [0.86455331, 0.13544669],\n",
              "       [0.63114754, 0.36885246],\n",
              "       [0.5       , 0.5       ],\n",
              "       [0.84259259, 0.15740741],\n",
              "       [0.5       , 0.5       ],\n",
              "       [0.5       , 0.5       ],\n",
              "       [0.86455331, 0.13544669],\n",
              "       [0.63114754, 0.36885246],\n",
              "       [0.07894737, 0.92105263],\n",
              "       [0.84259259, 0.15740741],\n",
              "       [0.63114754, 0.36885246],\n",
              "       [0.5       , 0.5       ],\n",
              "       [0.84259259, 0.15740741],\n",
              "       [0.03191489, 0.96808511],\n",
              "       [0.86455331, 0.13544669],\n",
              "       [0.86455331, 0.13544669],\n",
              "       [0.86455331, 0.13544669],\n",
              "       [0.84259259, 0.15740741],\n",
              "       [0.07894737, 0.92105263],\n",
              "       [0.5       , 0.5       ],\n",
              "       [0.63114754, 0.36885246],\n",
              "       [0.5       , 0.5       ],\n",
              "       [0.63114754, 0.36885246],\n",
              "       [0.03191489, 0.96808511],\n",
              "       [0.86455331, 0.13544669],\n",
              "       [0.07894737, 0.92105263],\n",
              "       [0.86455331, 0.13544669],\n",
              "       [0.07894737, 0.92105263],\n",
              "       [0.86455331, 0.13544669],\n",
              "       [0.03191489, 0.96808511],\n",
              "       [0.5       , 0.5       ],\n",
              "       [0.86455331, 0.13544669],\n",
              "       [0.5       , 0.5       ],\n",
              "       [0.86455331, 0.13544669],\n",
              "       [0.84259259, 0.15740741],\n",
              "       [0.84259259, 0.15740741],\n",
              "       [0.03191489, 0.96808511],\n",
              "       [0.86455331, 0.13544669],\n",
              "       [0.86455331, 0.13544669],\n",
              "       [0.63114754, 0.36885246],\n",
              "       [0.86455331, 0.13544669],\n",
              "       [0.63114754, 0.36885246],\n",
              "       [0.86455331, 0.13544669],\n",
              "       [0.07894737, 0.92105263],\n",
              "       [0.03191489, 0.96808511],\n",
              "       [0.03191489, 0.96808511],\n",
              "       [0.07894737, 0.92105263],\n",
              "       [0.63114754, 0.36885246],\n",
              "       [0.86455331, 0.13544669],\n",
              "       [0.86455331, 0.13544669],\n",
              "       [0.63114754, 0.36885246],\n",
              "       [0.07894737, 0.92105263],\n",
              "       [0.84259259, 0.15740741],\n",
              "       [0.07894737, 0.92105263],\n",
              "       [0.5       , 0.5       ],\n",
              "       [0.07894737, 0.92105263],\n",
              "       [0.86455331, 0.13544669],\n",
              "       [0.63114754, 0.36885246],\n",
              "       [0.86455331, 0.13544669],\n",
              "       [0.86455331, 0.13544669],\n",
              "       [0.86455331, 0.13544669],\n",
              "       [0.86455331, 0.13544669],\n",
              "       [0.86455331, 0.13544669],\n",
              "       [0.07894737, 0.92105263],\n",
              "       [0.86455331, 0.13544669],\n",
              "       [0.86455331, 0.13544669],\n",
              "       [0.86455331, 0.13544669],\n",
              "       [0.07894737, 0.92105263],\n",
              "       [0.5       , 0.5       ],\n",
              "       [0.84259259, 0.15740741],\n",
              "       [0.86455331, 0.13544669],\n",
              "       [0.63114754, 0.36885246],\n",
              "       [0.86455331, 0.13544669],\n",
              "       [0.5       , 0.5       ],\n",
              "       [0.86455331, 0.13544669],\n",
              "       [0.63114754, 0.36885246],\n",
              "       [0.86455331, 0.13544669],\n",
              "       [0.03191489, 0.96808511],\n",
              "       [0.5       , 0.5       ],\n",
              "       [0.86455331, 0.13544669],\n",
              "       [0.07894737, 0.92105263],\n",
              "       [0.84259259, 0.15740741],\n",
              "       [0.84259259, 0.15740741],\n",
              "       [0.84259259, 0.15740741],\n",
              "       [0.84259259, 0.15740741],\n",
              "       [0.5       , 0.5       ],\n",
              "       [0.86455331, 0.13544669],\n",
              "       [0.5       , 0.5       ],\n",
              "       [0.5       , 0.5       ],\n",
              "       [0.5       , 0.5       ],\n",
              "       [0.86455331, 0.13544669],\n",
              "       [0.86455331, 0.13544669],\n",
              "       [0.63114754, 0.36885246],\n",
              "       [0.86455331, 0.13544669],\n",
              "       [0.86455331, 0.13544669],\n",
              "       [0.63114754, 0.36885246],\n",
              "       [0.5       , 0.5       ],\n",
              "       [0.86455331, 0.13544669],\n",
              "       [0.63114754, 0.36885246],\n",
              "       [0.86455331, 0.13544669],\n",
              "       [0.86455331, 0.13544669],\n",
              "       [0.07894737, 0.92105263],\n",
              "       [0.86455331, 0.13544669],\n",
              "       [0.63114754, 0.36885246],\n",
              "       [0.86455331, 0.13544669],\n",
              "       [0.86455331, 0.13544669],\n",
              "       [0.84259259, 0.15740741],\n",
              "       [0.84259259, 0.15740741],\n",
              "       [0.86455331, 0.13544669],\n",
              "       [0.5       , 0.5       ],\n",
              "       [0.03191489, 0.96808511],\n",
              "       [0.63114754, 0.36885246],\n",
              "       [0.86455331, 0.13544669],\n",
              "       [0.63114754, 0.36885246],\n",
              "       [0.5       , 0.5       ],\n",
              "       [0.86455331, 0.13544669],\n",
              "       [0.86455331, 0.13544669],\n",
              "       [0.86455331, 0.13544669],\n",
              "       [0.5       , 0.5       ],\n",
              "       [0.03191489, 0.96808511],\n",
              "       [0.5       , 0.5       ],\n",
              "       [0.63114754, 0.36885246],\n",
              "       [0.84259259, 0.15740741],\n",
              "       [0.86455331, 0.13544669],\n",
              "       [0.84259259, 0.15740741],\n",
              "       [0.86455331, 0.13544669],\n",
              "       [0.86455331, 0.13544669],\n",
              "       [0.84259259, 0.15740741],\n",
              "       [0.63114754, 0.36885246],\n",
              "       [0.03191489, 0.96808511],\n",
              "       [0.86455331, 0.13544669],\n",
              "       [0.07894737, 0.92105263],\n",
              "       [0.63114754, 0.36885246],\n",
              "       [0.84259259, 0.15740741],\n",
              "       [0.84259259, 0.15740741],\n",
              "       [0.07894737, 0.92105263],\n",
              "       [0.63114754, 0.36885246],\n",
              "       [0.86455331, 0.13544669],\n",
              "       [0.5       , 0.5       ],\n",
              "       [0.86455331, 0.13544669],\n",
              "       [0.63114754, 0.36885246],\n",
              "       [0.84259259, 0.15740741],\n",
              "       [0.86455331, 0.13544669],\n",
              "       [0.84259259, 0.15740741],\n",
              "       [0.86455331, 0.13544669],\n",
              "       [0.84259259, 0.15740741],\n",
              "       [0.86455331, 0.13544669],\n",
              "       [0.86455331, 0.13544669],\n",
              "       [0.03191489, 0.96808511],\n",
              "       [0.86455331, 0.13544669],\n",
              "       [0.5       , 0.5       ],\n",
              "       [0.84259259, 0.15740741],\n",
              "       [0.5       , 0.5       ],\n",
              "       [0.84259259, 0.15740741],\n",
              "       [0.07894737, 0.92105263],\n",
              "       [0.03191489, 0.96808511],\n",
              "       [0.84259259, 0.15740741],\n",
              "       [0.84259259, 0.15740741],\n",
              "       [0.84259259, 0.15740741],\n",
              "       [0.5       , 0.5       ],\n",
              "       [0.63114754, 0.36885246],\n",
              "       [0.03191489, 0.96808511],\n",
              "       [0.86455331, 0.13544669],\n",
              "       [0.86455331, 0.13544669],\n",
              "       [0.5       , 0.5       ],\n",
              "       [0.86455331, 0.13544669],\n",
              "       [0.07894737, 0.92105263],\n",
              "       [0.07894737, 0.92105263],\n",
              "       [0.86455331, 0.13544669],\n",
              "       [0.03191489, 0.96808511],\n",
              "       [0.5       , 0.5       ],\n",
              "       [0.86455331, 0.13544669],\n",
              "       [0.5       , 0.5       ],\n",
              "       [0.03191489, 0.96808511],\n",
              "       [0.84259259, 0.15740741],\n",
              "       [0.84259259, 0.15740741],\n",
              "       [0.03191489, 0.96808511],\n",
              "       [0.63114754, 0.36885246],\n",
              "       [0.84259259, 0.15740741],\n",
              "       [0.03191489, 0.96808511],\n",
              "       [0.03191489, 0.96808511],\n",
              "       [0.5       , 0.5       ],\n",
              "       [0.84259259, 0.15740741],\n",
              "       [0.63114754, 0.36885246],\n",
              "       [0.86455331, 0.13544669],\n",
              "       [0.86455331, 0.13544669],\n",
              "       [0.86455331, 0.13544669],\n",
              "       [0.5       , 0.5       ],\n",
              "       [0.5       , 0.5       ],\n",
              "       [0.84259259, 0.15740741],\n",
              "       [0.07894737, 0.92105263],\n",
              "       [0.86455331, 0.13544669],\n",
              "       [0.84259259, 0.15740741],\n",
              "       [0.86455331, 0.13544669],\n",
              "       [0.86455331, 0.13544669],\n",
              "       [0.63114754, 0.36885246],\n",
              "       [0.03191489, 0.96808511],\n",
              "       [0.86455331, 0.13544669],\n",
              "       [0.84259259, 0.15740741],\n",
              "       [0.86455331, 0.13544669],\n",
              "       [0.03191489, 0.96808511],\n",
              "       [0.86455331, 0.13544669],\n",
              "       [0.03191489, 0.96808511],\n",
              "       [0.86455331, 0.13544669],\n",
              "       [0.86455331, 0.13544669],\n",
              "       [0.03191489, 0.96808511],\n",
              "       [0.84259259, 0.15740741],\n",
              "       [0.03191489, 0.96808511],\n",
              "       [0.63114754, 0.36885246],\n",
              "       [0.63114754, 0.36885246],\n",
              "       [0.84259259, 0.15740741],\n",
              "       [0.84259259, 0.15740741],\n",
              "       [0.63114754, 0.36885246],\n",
              "       [0.5       , 0.5       ],\n",
              "       [0.5       , 0.5       ],\n",
              "       [0.5       , 0.5       ],\n",
              "       [0.03191489, 0.96808511],\n",
              "       [0.5       , 0.5       ],\n",
              "       [0.86455331, 0.13544669],\n",
              "       [0.03191489, 0.96808511],\n",
              "       [0.86455331, 0.13544669],\n",
              "       [0.86455331, 0.13544669],\n",
              "       [0.86455331, 0.13544669]])"
            ]
          },
          "metadata": {
            "tags": []
          },
          "execution_count": 44
        }
      ]
    },
    {
      "cell_type": "code",
      "metadata": {
        "colab": {
          "base_uri": "https://localhost:8080/"
        },
        "id": "Kp64ANDmXT9v",
        "outputId": "1c2b6f0c-ba4f-48f0-f238-0cfefedd4892"
      },
      "source": [
        "dt.predict_proba(X_test)[:,1]"
      ],
      "execution_count": 46,
      "outputs": [
        {
          "output_type": "execute_result",
          "data": {
            "text/plain": [
              "array([0.13544669, 0.5       , 0.15740741, 0.13544669, 0.5       ,\n",
              "       0.13544669, 0.5       , 0.15740741, 0.5       , 0.13544669,\n",
              "       0.13544669, 0.36885246, 0.96808511, 0.15740741, 0.96808511,\n",
              "       0.92105263, 0.15740741, 0.13544669, 0.5       , 0.5       ,\n",
              "       0.36885246, 0.13544669, 0.96808511, 0.36885246, 0.96808511,\n",
              "       0.13544669, 0.96808511, 0.13544669, 0.36885246, 0.13544669,\n",
              "       0.15740741, 0.15740741, 0.5       , 0.5       , 0.36885246,\n",
              "       0.13544669, 0.5       , 0.5       , 0.13544669, 0.13544669,\n",
              "       0.13544669, 0.36885246, 0.13544669, 0.92105263, 0.96808511,\n",
              "       0.13544669, 0.36885246, 0.13544669, 0.96808511, 0.5       ,\n",
              "       0.36885246, 0.15740741, 0.92105263, 0.96808511, 0.15740741,\n",
              "       0.13544669, 0.13544669, 0.13544669, 0.13544669, 0.96808511,\n",
              "       0.13544669, 0.15740741, 0.13544669, 0.5       , 0.36885246,\n",
              "       0.92105263, 0.5       , 0.36885246, 0.36885246, 0.96808511,\n",
              "       0.5       , 0.13544669, 0.5       , 0.36885246, 0.96808511,\n",
              "       0.36885246, 0.13544669, 0.96808511, 0.15740741, 0.5       ,\n",
              "       0.13544669, 0.36885246, 0.36885246, 0.13544669, 0.15740741,\n",
              "       0.13544669, 0.5       , 0.5       , 0.5       , 0.15740741,\n",
              "       0.5       , 0.13544669, 0.96808511, 0.13544669, 0.36885246,\n",
              "       0.13544669, 0.96808511, 0.13544669, 0.5       , 0.13544669,\n",
              "       0.96808511, 0.15740741, 0.13544669, 0.13544669, 0.5       ,\n",
              "       0.13544669, 0.13544669, 0.13544669, 0.13544669, 0.15740741,\n",
              "       0.15740741, 0.5       , 0.96808511, 0.5       , 0.96808511,\n",
              "       0.13544669, 0.13544669, 0.5       , 0.36885246, 0.92105263,\n",
              "       0.92105263, 0.13544669, 0.96808511, 0.13544669, 0.13544669,\n",
              "       0.5       , 0.13544669, 0.5       , 0.15740741, 0.13544669,\n",
              "       0.13544669, 0.36885246, 0.5       , 0.13544669, 0.13544669,\n",
              "       0.13544669, 0.13544669, 0.15740741, 0.5       , 0.13544669,\n",
              "       0.5       , 0.96808511, 0.36885246, 0.15740741, 0.36885246,\n",
              "       0.13544669, 0.36885246, 0.13544669, 0.36885246, 0.15740741,\n",
              "       0.96808511, 0.13544669, 0.13544669, 0.5       , 0.13544669,\n",
              "       0.13544669, 0.96808511, 0.5       , 0.36885246, 0.5       ,\n",
              "       0.5       , 0.13544669, 0.92105263, 0.13544669, 0.15740741,\n",
              "       0.5       , 0.36885246, 0.13544669, 0.96808511, 0.5       ,\n",
              "       0.13544669, 0.13544669, 0.13544669, 0.13544669, 0.13544669,\n",
              "       0.92105263, 0.92105263, 0.36885246, 0.92105263, 0.96808511,\n",
              "       0.15740741, 0.36885246, 0.96808511, 0.13544669, 0.96808511,\n",
              "       0.15740741, 0.92105263, 0.13544669, 0.5       , 0.15740741,\n",
              "       0.15740741, 0.36885246, 0.13544669, 0.15740741, 0.15740741,\n",
              "       0.13544669, 0.36885246, 0.5       , 0.15740741, 0.5       ,\n",
              "       0.5       , 0.13544669, 0.36885246, 0.92105263, 0.15740741,\n",
              "       0.36885246, 0.5       , 0.15740741, 0.96808511, 0.13544669,\n",
              "       0.13544669, 0.13544669, 0.15740741, 0.92105263, 0.5       ,\n",
              "       0.36885246, 0.5       , 0.36885246, 0.96808511, 0.13544669,\n",
              "       0.92105263, 0.13544669, 0.92105263, 0.13544669, 0.96808511,\n",
              "       0.5       , 0.13544669, 0.5       , 0.13544669, 0.15740741,\n",
              "       0.15740741, 0.96808511, 0.13544669, 0.13544669, 0.36885246,\n",
              "       0.13544669, 0.36885246, 0.13544669, 0.92105263, 0.96808511,\n",
              "       0.96808511, 0.92105263, 0.36885246, 0.13544669, 0.13544669,\n",
              "       0.36885246, 0.92105263, 0.15740741, 0.92105263, 0.5       ,\n",
              "       0.92105263, 0.13544669, 0.36885246, 0.13544669, 0.13544669,\n",
              "       0.13544669, 0.13544669, 0.13544669, 0.92105263, 0.13544669,\n",
              "       0.13544669, 0.13544669, 0.92105263, 0.5       , 0.15740741,\n",
              "       0.13544669, 0.36885246, 0.13544669, 0.5       , 0.13544669,\n",
              "       0.36885246, 0.13544669, 0.96808511, 0.5       , 0.13544669,\n",
              "       0.92105263, 0.15740741, 0.15740741, 0.15740741, 0.15740741,\n",
              "       0.5       , 0.13544669, 0.5       , 0.5       , 0.5       ,\n",
              "       0.13544669, 0.13544669, 0.36885246, 0.13544669, 0.13544669,\n",
              "       0.36885246, 0.5       , 0.13544669, 0.36885246, 0.13544669,\n",
              "       0.13544669, 0.92105263, 0.13544669, 0.36885246, 0.13544669,\n",
              "       0.13544669, 0.15740741, 0.15740741, 0.13544669, 0.5       ,\n",
              "       0.96808511, 0.36885246, 0.13544669, 0.36885246, 0.5       ,\n",
              "       0.13544669, 0.13544669, 0.13544669, 0.5       , 0.96808511,\n",
              "       0.5       , 0.36885246, 0.15740741, 0.13544669, 0.15740741,\n",
              "       0.13544669, 0.13544669, 0.15740741, 0.36885246, 0.96808511,\n",
              "       0.13544669, 0.92105263, 0.36885246, 0.15740741, 0.15740741,\n",
              "       0.92105263, 0.36885246, 0.13544669, 0.5       , 0.13544669,\n",
              "       0.36885246, 0.15740741, 0.13544669, 0.15740741, 0.13544669,\n",
              "       0.15740741, 0.13544669, 0.13544669, 0.96808511, 0.13544669,\n",
              "       0.5       , 0.15740741, 0.5       , 0.15740741, 0.92105263,\n",
              "       0.96808511, 0.15740741, 0.15740741, 0.15740741, 0.5       ,\n",
              "       0.36885246, 0.96808511, 0.13544669, 0.13544669, 0.5       ,\n",
              "       0.13544669, 0.92105263, 0.92105263, 0.13544669, 0.96808511,\n",
              "       0.5       , 0.13544669, 0.5       , 0.96808511, 0.15740741,\n",
              "       0.15740741, 0.96808511, 0.36885246, 0.15740741, 0.96808511,\n",
              "       0.96808511, 0.5       , 0.15740741, 0.36885246, 0.13544669,\n",
              "       0.13544669, 0.13544669, 0.5       , 0.5       , 0.15740741,\n",
              "       0.92105263, 0.13544669, 0.15740741, 0.13544669, 0.13544669,\n",
              "       0.36885246, 0.96808511, 0.13544669, 0.15740741, 0.13544669,\n",
              "       0.96808511, 0.13544669, 0.96808511, 0.13544669, 0.13544669,\n",
              "       0.96808511, 0.15740741, 0.96808511, 0.36885246, 0.36885246,\n",
              "       0.15740741, 0.15740741, 0.36885246, 0.5       , 0.5       ,\n",
              "       0.5       , 0.96808511, 0.5       , 0.13544669, 0.96808511,\n",
              "       0.13544669, 0.13544669, 0.13544669])"
            ]
          },
          "metadata": {
            "tags": []
          },
          "execution_count": 46
        }
      ]
    },
    {
      "cell_type": "markdown",
      "metadata": {
        "id": "ympvyqOCW7jk"
      },
      "source": [
        "## 제출하기\r\n"
      ]
    },
    {
      "cell_type": "code",
      "metadata": {
        "id": "YkjhmOYTW9XD"
      },
      "source": [
        "submission['Survived'] = dt.predict_proba(X_test)[:,1]\r\n",
        "submission.to_csv('/content/gdrive/MyDrive/kaggle/02_titanic/dt_submission.csv', index = False)"
      ],
      "execution_count": 49,
      "outputs": []
    }
  ]
}